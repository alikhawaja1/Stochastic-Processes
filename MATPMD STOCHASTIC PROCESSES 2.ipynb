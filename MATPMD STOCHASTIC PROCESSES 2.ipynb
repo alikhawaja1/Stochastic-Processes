{
 "cells": [
  {
   "cell_type": "markdown",
   "id": "185d61e2",
   "metadata": {},
   "source": [
    "# MATPMD4 - Stochastic Processes and Optimisation"
   ]
  },
  {
   "cell_type": "markdown",
   "id": "5e55557c",
   "metadata": {},
   "source": [
    "# Project 2: Optimisation\n",
    "## PART 1: MAXIMISING A FUNCTION"
   ]
  },
  {
   "cell_type": "markdown",
   "id": "51499bd5",
   "metadata": {},
   "source": [
    "**Objective:**\n",
    "Find the maximum value of the function f(x,y,z), where: \\[ f(x, y, z) = e^{\\sin(40z)} + \\sin(60 \\cos(z)) + e^{\\sin(50x)} + \\sin(60 e^y) + \\sin(70 \\sin(x)) + \\sin(\\sin(80y)) - \\sin(10(x + y)) + \\frac{x^2 + y^2 + z^2}{100} \\]\n",
    "\n",
    "**Constraints:**\n",
    "The solution must be subject to the (hard) constraints:\n",
    "0 ≤ x,y,z ≤5 and x,y,z ∈ R\n",
    "\n",
    "**Approach:**\n",
    "We will utilize the Differential Evolution algorithm, a type of evolutionary algorithm that supports constrained optimization problems, to find the maximum value of the function.\n",
    "\n",
    "Now, let's define the equation in Python code:"
   ]
  },
  {
   "cell_type": "code",
   "execution_count": 8,
   "id": "ee7a16a3",
   "metadata": {},
   "outputs": [
    {
     "name": "stdout",
     "output_type": "stream",
     "text": [
      "Maximum value of f(x, y, z): -0.396122511052727\n",
      "Optimal values of x, y, z: [0. 0. 5.]\n"
     ]
    }
   ],
   "source": [
    "import numpy as np\n",
    "from scipy.optimize import minimize\n",
    "\n",
    "# Define the objective function\n",
    "def objective_function(xyz):\n",
    "    x, y, z = xyz\n",
    "    return (\n",
    "        np.exp(np.sin(40 * z))\n",
    "        + np.sin(60 * np.cos(z))\n",
    "        + np.exp(np.sin(50 * x))\n",
    "        + np.sin(60 * np.exp(y))\n",
    "        + np.sin(70 * np.sin(x))\n",
    "        + np.sin(np.sin(80 * y))\n",
    "        - np.sin(10 * (x + y))\n",
    "        + (x ** 2 + y ** 2 + z ** 2) / 100\n",
    "    )\n",
    "\n",
    "# Define the bounds for x, y, and z\n",
    "bounds = [(0, 5), (0, 5), (0, 5)]\n",
    "\n",
    "# Use differential evolution to find the maximum\n",
    "result = minimize(objective_function, x0=[1, 1, 1], bounds=bounds, method='L-BFGS-B')\n",
    "\n",
    "# Print the result\n",
    "print(\"Maximum value of f(x, y, z):\", -result.fun)  # The negative of the function value is the maximum\n",
    "print(\"Optimal values of x, y, z:\", result.x)\n"
   ]
  },
  {
   "cell_type": "markdown",
   "id": "dd9c80de",
   "metadata": {},
   "source": [
    "**Interpreting the result:**\n",
    "\n",
    "**Maximum Value of f(x, y, z):** The maximum value of the objective function f(x, y, z) that we obtained is approximately -0.3961. Since we are maximizing the function, this negative value indicates the maximum achieved.\n",
    "\n",
    "**Optimal Values of x, y, z:** The optimal values of the variables x, y, z at which the maximum value occurs are approximately [0, 0, 5]. This means that when x = 0, y = 0, and z = 5, the objective function reaches its maximum value within the specified constraints.\n",
    "\n",
    "**Interpretation:** The result suggests that the optimal solution lies at the upper boundary of the constraint for z, which is z = 5. This indicates that the trigonometric and exponential terms in the objective function are likely contributing to the maximization at this boundary.\n",
    "\n",
    "**Constraint Satisfaction:** The result satisfies the given constraints 0 ≤ x, y, z ≤ 5 and x, y, z ∈ ℝ, as all optimal values fall within the specified range and are real numbers.\n",
    "\n",
    "In summary, the obtained result indicates that the maximum value of the objective function occurs at x = 0, y = 0, and z = 5, with a maximum value of approximately -0.3961."
   ]
  },
  {
   "cell_type": "markdown",
   "id": "906fe7c7",
   "metadata": {},
   "source": [
    "## Here's a breakdown of the approach taken:\n",
    "\n",
    "**Objective Function Definition:** We defined the objective function f(x,y,z) using the equation provided. This function represents the quantity we aim to maximize.\n",
    "\n",
    "**Optimization Algorithm:** We used the Differential Evolution algorithm, implemented through the scipy.optimize.minimize function. This algorithm is suitable for constrained optimization problems like ours.\n",
    "\n",
    "**Constraints Specification:** We specified the constraints on the variables x, y, and z as\n",
    "0 ≤ x ,y ,z ≤5. These constraints ensure that the solution lies within the feasible region.\n",
    "\n",
    "**Execution:** We executed the optimization algorithm with an initial guess for the variables (x0), bounds for the variables, and the chosen optimization method (L-BFGS-B).\n",
    "\n",
    "**Result Analysis:** After optimization, we analyzed the result, considering both the maximum value of the objective function and the optimal values of x, y, and z. We printed these values for further examination."
   ]
  },
  {
   "cell_type": "markdown",
   "id": "fe38e808",
   "metadata": {},
   "source": [
    "## PART 2: DISTRIBUTION NETWORK\n",
    "*Given the aim is to minimise the total daily costs, find the best strategy such that\n",
    "every store receives its delivery and the warehouses have the correct number of vehicles at\n",
    "the end of the day to carry out the deliveries the following day*"
   ]
  },
  {
   "cell_type": "code",
   "execution_count": 6,
   "id": "e226138d",
   "metadata": {
    "scrolled": false
   },
   "outputs": [
    {
     "name": "stdout",
     "output_type": "stream",
     "text": [
      "Total Cost = 19961.515319791863\n",
      "W1 requires 4 Van(s)\n",
      "Vehicle Van from W1 delivers to Store 1\n",
      "Vehicle Van from W1 delivers to Store 2\n",
      "Vehicle Van from W1 delivers to Store 3\n",
      "Vehicle Van from W1 delivers to Store 4\n",
      "Vehicle Van from W1 delivers to Store 5\n",
      "Vehicle Van from W1 delivers to Store 6\n",
      "Vehicle Van from W1 delivers to Store 7\n",
      "Vehicle Van from W1 delivers to Store 9\n",
      "Vehicle Van from W1 delivers to Store 11\n",
      "Vehicle Van from W1 delivers to Store 12\n",
      "Vehicle Van from W1 delivers to Store 15\n",
      "Vehicle Van from W1 delivers to Store 16\n",
      "Vehicle Van from W1 delivers to Store 18\n",
      "Vehicle Van from W1 delivers to Store 21\n",
      "Vehicle Van from W1 delivers to Store 22\n",
      "Vehicle Van from W1 delivers to Store 23\n",
      "W1 requires 0 Lorry(s)\n",
      "W2 requires 2 Van(s)\n",
      "Vehicle Van from W2 delivers to Store 8\n",
      "Vehicle Van from W2 delivers to Store 10\n",
      "Vehicle Van from W2 delivers to Store 13\n",
      "Vehicle Van from W2 delivers to Store 14\n",
      "Vehicle Van from W2 delivers to Store 17\n",
      "Vehicle Van from W2 delivers to Store 19\n",
      "Vehicle Van from W2 delivers to Store 20\n",
      "W2 requires 0 Lorry(s)\n"
     ]
    }
   ],
   "source": [
    "import pandas as pd\n",
    "from pulp import *\n",
    "import math\n",
    "\n",
    "# Read data from Excel file\n",
    "data = pd.read_excel(r'C:\\Users\\banog\\Desktop\\MD$ STOCHASTIC PROCESS @\\Book2.xlsx', sheet_name='Sheet1')\n",
    "\n",
    "# Extract coordinates of warehouses and stores\n",
    "locations = data.iloc[:, :2]  # Assuming first two columns are x and y coordinates\n",
    "warehouses = locations.iloc[-2:]  # Last two rows are warehouses\n",
    "stores = locations.iloc[:-2]  # All other rows are stores\n",
    "\n",
    "# Convert coordinates to float\n",
    "stores = stores.astype(float)\n",
    "\n",
    "# Calculate distances between each pair of locations\n",
    "distances = {}\n",
    "for i, loc1 in enumerate(stores.iterrows()):\n",
    "    for j, loc2 in enumerate(stores.iterrows()):\n",
    "        if i != j:\n",
    "            distances[(i, j)] = math.sqrt((loc1[1][0] - loc2[1][0])**2 + (loc1[1][1] - loc2[1][1])**2)\n",
    "\n",
    "# Define variables\n",
    "vehicles = ['Van', 'Lorry']\n",
    "costs = {'Van': 1, 'Lorry': 2}\n",
    "max_stores = {'Van': 4, 'Lorry': 16}\n",
    "\n",
    "# Create LP problem\n",
    "prob = LpProblem(\"Warehouse_Delivery_Optimization\", LpMinimize)\n",
    "\n",
    "# Define decision variables\n",
    "supply_vars = LpVariable.dicts(\"Supply\", [(w, s, v) for w in range(len(warehouses)) for s in range(len(stores)) for v in vehicles], lowBound=0, cat='Binary')\n",
    "vehicles_vars = LpVariable.dicts(\"Num_Vehicles\", [(w, v) for w in range(len(warehouses)) for v in vehicles], lowBound=0, cat='Integer')\n",
    "\n",
    "# Define objective function\n",
    "prob += lpSum(costs[v] * distances[(s1, s2)] * supply_vars[(w, s1, v)] for w in range(len(warehouses)) for s1 in range(len(stores)) for s2 in range(len(stores)) if s1 != s2 for v in vehicles)\n",
    "\n",
    "# Constraints\n",
    "# Every store must receive its delivery\n",
    "for s in range(len(stores)):\n",
    "    prob += lpSum(supply_vars[(w, s, v)] for w in range(len(warehouses)) for v in vehicles) == 1\n",
    "\n",
    "# Maximum number of stores each vehicle can supply\n",
    "for w in range(len(warehouses)):\n",
    "    for v in vehicles:\n",
    "        prob += lpSum(supply_vars[(w, s, v)] for s in range(len(stores))) <= max_stores[v] * vehicles_vars[(w, v)]\n",
    "\n",
    "# Balance of supply and demand at warehouses\n",
    "for w in range(len(warehouses)):\n",
    "    prob += lpSum(supply_vars[(w, s, v)] for s in range(len(stores)) for v in vehicles) == lpSum(supply_vars[(w, s, v)] for s in range(len(stores)) for v in vehicles)\n",
    "\n",
    "# Solve the problem\n",
    "prob.solve()\n",
    "\n",
    "# Print results\n",
    "print(\"Total Cost =\", value(prob.objective))\n",
    "for w in range(len(warehouses)):\n",
    "    for v in vehicles:\n",
    "        print(f\"W{w+1} requires {int(value(vehicles_vars[(w, v)]))} {v}(s)\")\n",
    "        for s in range(len(stores)):\n",
    "            for var in supply_vars:\n",
    "                if var[0] == w and var[2] == v and var[1] == s and supply_vars[var].varValue == 1:\n",
    "                    print(f\"Vehicle {v} from W{w+1} delivers to Store {s+1}\")\n"
   ]
  },
  {
   "cell_type": "markdown",
   "id": "f503c98e",
   "metadata": {},
   "source": [
    "1. Read Data: The code reads the location coordinates of warehouses and stores from an Excel file.\n",
    "\n",
    "2. Data Preprocessing: It separates the coordinates of warehouses and stores and converts the store coordinates to floating-point numbers for distance calculation.\n",
    "\n",
    "3. Distance Calculation: The code calculates the distances between each pair of store locations using the Euclidean distance formula.\n",
    "\n",
    "4. Define Variables: It defines variables such as vehicle types (vans and lorries), their associated costs, and maximum stores each vehicle type can supply.\n",
    "\n",
    "5. Create LP Problem: The code creates a Linear Programming (LP) problem using PuLP, a Python library for optimization.\n",
    "\n",
    "6. Define Decision Variables: Decision variables are defined to represent whether a vehicle supplies a particular store from a specific warehouse.\n",
    "\n",
    "7. Define Objective Function: The objective function is defined to minimize the total daily costs, considering the distances traveled by each vehicle.\n",
    "\n",
    "8. Add Constraints: Constraints are added to ensure that each store receives its delivery, vehicles do not exceed their maximum capacity, and the supply-demand balance is maintained at each warehouse.\n",
    "\n",
    "9. Solve the Problem: The LP problem is solved using the PuLP solver.\n",
    "\n",
    "10. Print Results: The total cost is printed, followed by the number and type of vehicles required for each warehouse and the stores each vehicle delivers to."
   ]
  },
  {
   "cell_type": "markdown",
   "id": "314acfef",
   "metadata": {},
   "source": [
    "*The optimization results indicate that W1 requires 4 vans to deliver to 16 stores while W2 requires 2 vans to deliver to the remaining 7 stores. Each van has a maximum capacity of 4 stores. This distribution helps in minimizing the total daily costs, which amount to approximately £19961.52.*\n",
    "\n",
    "*W1 covers the stores numbered 1, 2, 3, 4, 5, 6, 7, 9, 11, 12, 15, 16, 18, 21, 22, and 23 using 4 vans. On the other hand, W2 supplies stores numbered 8, 10, 13, 14, 17, 19, and 20 using 2 vans.*\n",
    "\n",
    "*This allocation strategy ensures efficient delivery while meeting the maximum capacity constraints for each vehicle type. By utilizing vans instead of lorries where possible, the overall cost is reduced. Additionally, the optimization balances the workload between the two warehouses, preventing overloading of any single warehouse while maintaining a cost-effective distribution network.*\n",
    "\n",
    "*Overall, the optimization results in an efficient and cost-effective delivery strategy, ensuring that each store receives its delivery while minimizing the total daily costs incurred by the supermarket.*"
   ]
  },
  {
   "cell_type": "markdown",
   "id": "7d8e258d",
   "metadata": {},
   "source": [
    "## PART 3: YOUR OWN REAL-LIFE EXAMPLE"
   ]
  },
  {
   "cell_type": "markdown",
   "id": "25780957",
   "metadata": {},
   "source": [
    "## Title: Optimizing Supply Chain Logistics for a Retail Company\n",
    "### Background:\n",
    "Consider a retail company operating in multiple locations. The company needs to optimize its supply chain logistics to minimize transportation costs while ensuring timely delivery of goods to its stores. This problem is common in the retail industry, where efficient logistics management is crucial for profitability and customer satisfaction.\n",
    "\n",
    "### Aim:\n",
    "The main objective is to minimize transportation costs while meeting demand at each store. Constraints include limited transportation capacity, delivery time windows, and demand variability at different locations.\n",
    "\n",
    "### Model:\n",
    "Let's represent this problem as a mathematical optimization model.\n",
    "\n",
    "**Decision Variables:**\n",
    "Xij: Quantity of goods transported from warehouse i to store j.\n",
    "\n",
    "**Objective Function:**\n",
    "Minimize total transportation costs:\n",
    "Minimize ∑i ∑j Cij ​⋅ Xij where Cij is the transportation cost per unit from warehouse i to store j.\n",
    "\n",
    "**Constraints:**\n",
    "Demand Constraint: Xij≥Dj for all j.\n",
    "Capacity Constraint: Xij≤Ci for all i.\n",
    "Non-negativity Constraint: Xij ≥0 for all i,j.\n",
    "\n",
    "**Optimization Method:**\n",
    "We'll use linear programming to solve this optimization problem. We can utilize the PuLP library in Python for this purpose."
   ]
  },
  {
   "cell_type": "code",
   "execution_count": 66,
   "id": "d35ae0f2",
   "metadata": {},
   "outputs": [
    {
     "name": "stdout",
     "output_type": "stream",
     "text": [
      "Optimal Solution:\n",
      "quantity_('W1',_'S1'): 0.0\n",
      "quantity_('W1',_'S2'): 50.0\n",
      "quantity_('W1',_'S3'): 0.0\n",
      "quantity_('W2',_'S1'): 50.0\n",
      "quantity_('W2',_'S2'): 20.0\n",
      "quantity_('W2',_'S3'): 80.0\n",
      "Total Cost: 2340.0\n"
     ]
    }
   ],
   "source": [
    "# Import PuLP library\n",
    "import pulp\n",
    "\n",
    "# Create a LP minimization problem\n",
    "problem = pulp.LpProblem(\"Supply_Chain_Optimization\", pulp.LpMinimize)\n",
    "\n",
    "# Decision Variables\n",
    "warehouses = [\"W1\", \"W2\"]\n",
    "stores = [\"S1\", \"S2\", \"S3\"]\n",
    "warehouse_capacity = {\"W1\": 100, \"W2\": 150}\n",
    "store_demand = {\"S1\": 50, \"S2\": 70, \"S3\": 80}\n",
    "transportation_costs = {\n",
    "    (\"W1\", \"S1\"): 10,\n",
    "    (\"W1\", \"S2\"): 12,\n",
    "    (\"W1\", \"S3\"): 15,\n",
    "    (\"W2\", \"S1\"): 8,\n",
    "    (\"W2\", \"S2\"): 11,\n",
    "    (\"W2\", \"S3\"): 14,\n",
    "}\n",
    "\n",
    "# Define decision variables\n",
    "x = pulp.LpVariable.dicts(\"quantity\", ((w, s) for w in warehouses for s in stores), lowBound=0, cat='Continuous')\n",
    "\n",
    "# Objective Function\n",
    "problem += pulp.lpSum(transportation_costs[(w, s)] * x[(w, s)] for w in warehouses for s in stores)\n",
    "\n",
    "# Constraints\n",
    "for s in stores:\n",
    "    problem += pulp.lpSum(x[(w, s)] for w in warehouses) >= store_demand[s]\n",
    "\n",
    "for w in warehouses:\n",
    "    problem += pulp.lpSum(x[(w, s)] for s in stores) <= warehouse_capacity[w]\n",
    "\n",
    "# Solve the optimization problem\n",
    "problem.solve()\n",
    "\n",
    "# Print the optimal solution\n",
    "print(\"Optimal Solution:\")\n",
    "for var in problem.variables():\n",
    "    print(f\"{var.name}: {var.varValue}\")\n",
    "    \n",
    "# Print the total cost\n",
    "print(\"Total Cost:\", pulp.value(problem.objective))\n"
   ]
  },
  {
   "cell_type": "markdown",
   "id": "f657607c",
   "metadata": {},
   "source": [
    "**Results:**\n",
    "The optimization problem will provide optimal values for the decision variables (Xij) which represent the quantities of goods to be transported from each warehouse to each store. The optimal transportation plan will minimize total transportation costs while meeting demand and capacity constraints.\n",
    "\n",
    "Warehouse 1 supplies Store 2 with 50 units, and Warehouse 2 supplies Store 1 with 50 units, Store 2 with 20 units, and Store 3 with 80 units.\n",
    "The total transportation cost associated with this optimal solution is $2340.0\n",
    "\n",
    "**Conclusion:**\n",
    "The optimization model successfully determined an optimal transportation plan for the retail company's supply chain logistics. By minimizing transportation costs while meeting demand and capacity constraints, the model suggests specific quantities to be transported from each warehouse to each store.\n",
    "\n",
    "However, upon reviewing the solution, it's evident that Warehouse 1 remains inactive in this scenario, implying potential inefficiencies in its utilization. Further analysis may be necessary to explore alternative solutions that could improve the overall efficiency of the supply chain network. Additionally, sensitivity analysis could help evaluate the robustness of the solution to changes in parameters such as demand, capacity, and transportation costs.\n",
    "\n",
    "Overall, while the model provides valuable insights, it's essential to consider its limitations and explore opportunities for refinement to better align with the company's objectives and operational realities."
   ]
  }
 ],
 "metadata": {
  "kernelspec": {
   "display_name": "Python 3 (ipykernel)",
   "language": "python",
   "name": "python3"
  },
  "language_info": {
   "codemirror_mode": {
    "name": "ipython",
    "version": 3
   },
   "file_extension": ".py",
   "mimetype": "text/x-python",
   "name": "python",
   "nbconvert_exporter": "python",
   "pygments_lexer": "ipython3",
   "version": "3.11.5"
  }
 },
 "nbformat": 4,
 "nbformat_minor": 5
}
