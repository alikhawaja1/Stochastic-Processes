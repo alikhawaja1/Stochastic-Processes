{
 "cells": [
  {
   "cell_type": "markdown",
   "id": "4fc82d94",
   "metadata": {},
   "source": [
    "# Assignment 1 (Stochastic Processes)\n",
    "\n",
    "\n",
    "## Q1:State your student id and the values of p1, p2, p3, p4.\n",
    "### Taking 7-digit student number, appending a random digit to the end to make it an 8 digit number.\n",
    "### Methodology: p1: take the first 2 digits of your number and divide by 100. p2: take the second 2 digits of your number and divide by 100. p3: take the third 2 digits of your number and divide by 100. p4: take the fourth 2 digits of your number and divide by 100.\n",
    "\n",
    "#### Student ID = 3140151, adding a random number '0' to make it 31401510.\n",
    "P1=31/100 = 0.31, P2=40/100 = 0.40, P3=15/100 = 0.15, P4=10/100 = 0.10\n",
    "\n",
    "#### Normalizing:\n",
    "To make these probabilities true (i.e., sum to 1), we need to normalize them.\n",
    "##### We divide each probability by the sum of all probabilities\n",
    "P(normalized) = Pn/Sum of Pn. \n",
    "\n",
    "Sum=p1+p2+p3+p4 = 0.31+0.4+0.15+0.1 = 0.96\n",
    "\n",
    "P(norm.)1 = 0.31/0.96 = 0.33,\n",
    "P(norm.)2 = 0.4/0.96 = 0.417,\n",
    "P(norm.)3 = 0.15/0.96 = 0.156,\n",
    "P(norm.)4 = 0.1/0.96 = 0.104,\n",
    "\n",
    "Now, check that the sum of the normalized probabilities is 1:\n",
    "0.33+0.417+0.156+0.104 ~=~ 1\n",
    "\n",
    "\n",
    "\n"
   ]
  },
  {
   "cell_type": "markdown",
   "id": "a20a7d3a",
   "metadata": {},
   "source": [
    "## Q2:Some stochastic process, with states labelled A, B, C, D, E, has the following tranisition matrix:"
   ]
  },
  {
   "cell_type": "code",
   "execution_count": 10,
   "id": "9bf22da1",
   "metadata": {},
   "outputs": [
    {
     "data": {
      "text/html": [
       "<table class=\"dataframe\">\n",
       "<caption>A matrix: 5 × 5 of type chr</caption>\n",
       "<tbody>\n",
       "\t<tr><td>0.18</td><td>0.1 </td><td>0.23</td><td>0.02</td><td>0.47</td></tr>\n",
       "\t<tr><td>0   </td><td>1   </td><td>0   </td><td>0   </td><td>0   </td></tr>\n",
       "\t<tr><td>0   </td><td>0   </td><td>1   </td><td>0   </td><td>0   </td></tr>\n",
       "\t<tr><td>0.31</td><td>0.19</td><td>0.21</td><td>x   </td><td>0.13</td></tr>\n",
       "\t<tr><td>0.22</td><td>0.32</td><td>0.08</td><td>0.28</td><td>0.1 </td></tr>\n",
       "</tbody>\n",
       "</table>\n"
      ],
      "text/latex": [
       "A matrix: 5 × 5 of type chr\n",
       "\\begin{tabular}{lllll}\n",
       "\t 0.18 & 0.1  & 0.23 & 0.02 & 0.47\\\\\n",
       "\t 0    & 1    & 0    & 0    & 0   \\\\\n",
       "\t 0    & 0    & 1    & 0    & 0   \\\\\n",
       "\t 0.31 & 0.19 & 0.21 & x    & 0.13\\\\\n",
       "\t 0.22 & 0.32 & 0.08 & 0.28 & 0.1 \\\\\n",
       "\\end{tabular}\n"
      ],
      "text/markdown": [
       "\n",
       "A matrix: 5 × 5 of type chr\n",
       "\n",
       "| 0.18 | 0.1  | 0.23 | 0.02 | 0.47 |\n",
       "| 0    | 1    | 0    | 0    | 0    |\n",
       "| 0    | 0    | 1    | 0    | 0    |\n",
       "| 0.31 | 0.19 | 0.21 | x    | 0.13 |\n",
       "| 0.22 | 0.32 | 0.08 | 0.28 | 0.1  |\n",
       "\n"
      ],
      "text/plain": [
       "     [,1] [,2] [,3] [,4] [,5]\n",
       "[1,] 0.18 0.1  0.23 0.02 0.47\n",
       "[2,] 0    1    0    0    0   \n",
       "[3,] 0    0    1    0    0   \n",
       "[4,] 0.31 0.19 0.21 x    0.13\n",
       "[5,] 0.22 0.32 0.08 0.28 0.1 "
      ]
     },
     "metadata": {},
     "output_type": "display_data"
    }
   ],
   "source": [
    "P <- matrix(c(0.18, 0.1, 0.23, 0.02, 0.47,\n",
    "              0.0, 1.0, 0.0, 0.0, 0.0,\n",
    "              0.0, 0.0, 1.0, 0.0, 0.0,\n",
    "              0.31, 0.19, 0.21, \"x\", 0.13,\n",
    "              0.22, 0.32, 0.08, 0.28, 0.10), nrow = 5, byrow = TRUE)\n",
    "P"
   ]
  },
  {
   "cell_type": "markdown",
   "id": "4c4a30d1",
   "metadata": {},
   "source": [
    "### Expalanation:\n",
    "#### (a) Given that the matrix is stochastic matrix, the sum of each row = 1\n",
    "#### To find the value of \"x\":\n",
    "0.31+0.19+0.21+x+0.13 = 1\n",
    "#### Solving for \"x\"\n",
    "x = 1−0.84 = 0.16"
   ]
  },
  {
   "cell_type": "code",
   "execution_count": 3,
   "id": "a43d4e48",
   "metadata": {},
   "outputs": [
    {
     "data": {
      "text/html": [
       "<table class=\"dataframe\">\n",
       "<caption>A matrix: 5 × 5 of type dbl</caption>\n",
       "<tbody>\n",
       "\t<tr><td>0.18</td><td>0.10</td><td>0.23</td><td>0.02</td><td>0.47</td></tr>\n",
       "\t<tr><td>0.00</td><td>1.00</td><td>0.00</td><td>0.00</td><td>0.00</td></tr>\n",
       "\t<tr><td>0.00</td><td>0.00</td><td>1.00</td><td>0.00</td><td>0.00</td></tr>\n",
       "\t<tr><td>0.31</td><td>0.19</td><td>0.21</td><td>0.16</td><td>0.13</td></tr>\n",
       "\t<tr><td>0.22</td><td>0.32</td><td>0.08</td><td>0.28</td><td>0.10</td></tr>\n",
       "</tbody>\n",
       "</table>\n"
      ],
      "text/latex": [
       "A matrix: 5 × 5 of type dbl\n",
       "\\begin{tabular}{lllll}\n",
       "\t 0.18 & 0.10 & 0.23 & 0.02 & 0.47\\\\\n",
       "\t 0.00 & 1.00 & 0.00 & 0.00 & 0.00\\\\\n",
       "\t 0.00 & 0.00 & 1.00 & 0.00 & 0.00\\\\\n",
       "\t 0.31 & 0.19 & 0.21 & 0.16 & 0.13\\\\\n",
       "\t 0.22 & 0.32 & 0.08 & 0.28 & 0.10\\\\\n",
       "\\end{tabular}\n"
      ],
      "text/markdown": [
       "\n",
       "A matrix: 5 × 5 of type dbl\n",
       "\n",
       "| 0.18 | 0.10 | 0.23 | 0.02 | 0.47 |\n",
       "| 0.00 | 1.00 | 0.00 | 0.00 | 0.00 |\n",
       "| 0.00 | 0.00 | 1.00 | 0.00 | 0.00 |\n",
       "| 0.31 | 0.19 | 0.21 | 0.16 | 0.13 |\n",
       "| 0.22 | 0.32 | 0.08 | 0.28 | 0.10 |\n",
       "\n"
      ],
      "text/plain": [
       "     [,1] [,2] [,3] [,4] [,5]\n",
       "[1,] 0.18 0.10 0.23 0.02 0.47\n",
       "[2,] 0.00 1.00 0.00 0.00 0.00\n",
       "[3,] 0.00 0.00 1.00 0.00 0.00\n",
       "[4,] 0.31 0.19 0.21 0.16 0.13\n",
       "[5,] 0.22 0.32 0.08 0.28 0.10"
      ]
     },
     "metadata": {},
     "output_type": "display_data"
    },
    {
     "data": {
      "image/png": "[encoded data removed]",
      "text/plain": [
       "Plot with title \"\""
      ]
     },
     "metadata": {
      "image/png": {
       "height": 420,
       "width": 420
      }
     },
     "output_type": "display_data"
    }
   ],
   "source": [
    "# the \"P\" matrix hence is:\n",
    "P <- matrix(c(0.18, 0.1, 0.23, 0.02, 0.47,\n",
    "              0.0, 1.0, 0.0, 0.0, 0.0,\n",
    "              0.0, 0.0, 1.0, 0.0, 0.0,\n",
    "              0.31, 0.19, 0.21, 0.16, 0.13,\n",
    "              0.22, 0.32, 0.08, 0.28, 0.10), nrow = 5, byrow = TRUE)\n",
    "P\n",
    "library(igraph)\n",
    "# Defining node labels\n",
    "nodes <- c(\"A\", \"B\", \"C\", \"D\", \"E\")\n",
    "\n",
    "# Creating a directed graph\n",
    "graph <- graph_from_adjacency_matrix(P, mode = \"directed\", weighted = TRUE, diag = FALSE)\n",
    "\n",
    "# Plotting the state space diagram\n",
    "plot(graph, vertex.label = nodes, vertex.size = 30, edge.arrow.size = 0.5)"
   ]
  },
  {
   "cell_type": "markdown",
   "id": "16736f4e",
   "metadata": {},
   "source": [
    "#### (b) Assuming the initial distribution of states is A (13%), B (24%), C (32%), D (28%), and E (3%) calculating the distribution of states after 3 generations:\n",
    "To calculate the distribution of states after 3 generations, we may use the matrix multiplication. The initial distribution of states can be represented as a row vector, and we repeatedly multiply this vector by the transition matrix to get the distribution after each generation.\n",
    "##### Mathematically: v3 = v0 * P^3"
   ]
  },
  {
   "cell_type": "code",
   "execution_count": 4,
   "id": "a054ec30",
   "metadata": {},
   "outputs": [
    {
     "name": "stdout",
     "output_type": "stream",
     "text": [
      "         [,1]     [,2]      [,3]       [,4]       [,5]\n",
      "[1,] 0.038977 0.406876 0.4856722 0.02772928 0.04074556\n"
     ]
    }
   ],
   "source": [
    "# Defining the initial distribution vector\n",
    "v0 <- c(0.13, 0.24, 0.32, 0.28, 0.03)\n",
    "\n",
    "# Calculating the distribution after 3 generations\n",
    "v3 <- v0 %*% P %*% P %*% P\n",
    "\n",
    "# The result\n",
    "print(v3)"
   ]
  },
  {
   "cell_type": "markdown",
   "id": "92448a59",
   "metadata": {},
   "source": [
    "#### (c) Rewriting the stochastic matrix P in canonical form:\n",
    "##### To rewrite the stochastic matrix P in canonical form, we need to identify the matrices R and Q such that: P = R + Q.\n",
    "###### Let's find R and Q for the given stochastic matrix P:"
   ]
  },
  {
   "cell_type": "code",
   "execution_count": 2,
   "id": "6c08d3aa",
   "metadata": {},
   "outputs": [
    {
     "name": "stdout",
     "output_type": "stream",
     "text": [
      "R:\n",
      "     [,1] [,2]\n",
      "[1,]    1    0\n",
      "[2,]    0    1\n",
      "\n",
      "Q:\n",
      "     [,1] [,2] [,3]\n",
      "[1,] 0.18 0.02 0.47\n",
      "[2,] 0.31 0.16 0.13\n",
      "[3,] 0.22 0.28 0.10\n"
     ]
    }
   ],
   "source": [
    "P <- matrix(c(0.18, 0.1, 0.23, 0.02, 0.47,\n",
    "              0.0, 1.0, 0.0, 0.0, 0.0,\n",
    "              0.0, 0.0, 1.0, 0.0, 0.0,\n",
    "              0.31, 0.19, 0.21, 0.16, 0.13,\n",
    "              0.22, 0.32, 0.08, 0.28, 0.10), nrow = 5, byrow = TRUE)\n",
    "\n",
    "# Find absorbing states (rows with 1 on the diagonal in P)\n",
    "absorbing_states <- which(diag(P) == 1)\n",
    "\n",
    "# Extract R (absorbing states) and Q (non-absorbing states)\n",
    "R <- P[absorbing_states, absorbing_states]\n",
    "Q <- P[-absorbing_states, -absorbing_states]\n",
    "\n",
    "# Print R and Q\n",
    "cat(\"R:\\n\")\n",
    "print(R)\n",
    "\n",
    "cat(\"\\nQ:\\n\")\n",
    "print(Q)"
   ]
  },
  {
   "cell_type": "markdown",
   "id": "9ffe53f8",
   "metadata": {},
   "source": [
    "In this case, R represents the absorbing states, and Q represents the transient states."
   ]
  },
  {
   "cell_type": "markdown",
   "id": "a844e4bf",
   "metadata": {},
   "source": [
    "####  (d) For each state, i, calculating the mean number of times that the process is in a transient state j, given it started in i.\n",
    "#####  we may use the fundamental matrix approach. The fundamental matrix N is given by: N = (I-Q)^-1"
   ]
  },
  {
   "cell_type": "code",
   "execution_count": 3,
   "id": "f15f262a",
   "metadata": {},
   "outputs": [
    {
     "name": "stdout",
     "output_type": "stream",
     "text": [
      "Fundamental Matrix N:\n",
      "          [,1]      [,2]      [,3]\n",
      "[1,] 1.5771433 0.3278775 0.8709793\n",
      "[2,] 0.6741652 1.3908492 0.5529645\n",
      "[3,] 0.5952642 0.5128565 1.4960506\n",
      "\n",
      "Mean Number of Times in Transient States:\n",
      "          [,1]      [,2]      [,3]\n",
      "[1,] 0.5771433 0.3278775 0.8709793\n",
      "[2,] 0.6741652 0.3908492 0.5529645\n",
      "[3,] 0.5952642 0.5128565 0.4960506\n"
     ]
    }
   ],
   "source": [
    "# Given Q matrix (transient states)\n",
    "Q <- matrix(c(0.18, 0.02, 0.47,\n",
    "              0.31, 0.16, 0.13,\n",
    "              0.22, 0.28, 0.10), nrow = 3, byrow = TRUE)\n",
    "\n",
    "# Calculating the fundamental matrix N\n",
    "N <- solve(diag(3) - Q)\n",
    "\n",
    "# Printing the fundamental matrix N\n",
    "cat(\"Fundamental Matrix N:\\n\")\n",
    "print(N)\n",
    "\n",
    "# Calculating the mean number of times in each transient state for each initial state\n",
    "mean_times <- N - diag(3)\n",
    "\n",
    "# Printing the mean number of times\n",
    "cat(\"\\nMean Number of Times in Transient States:\\n\")\n",
    "print(mean_times)\n"
   ]
  },
  {
   "cell_type": "markdown",
   "id": "7a67f87b",
   "metadata": {},
   "source": [
    "#### (e) For each state i, find the mean number of transitions before the process hits an absorbing state, given that the process starts in a transient state i.\n",
    "##### This is done using the fundamental matrix N, where Mi = Nij - 1."
   ]
  },
  {
   "cell_type": "code",
   "execution_count": 4,
   "id": "b031807b",
   "metadata": {},
   "outputs": [
    {
     "name": "stdout",
     "output_type": "stream",
     "text": [
      "Mean Number of Transitions Before Hitting Absorbing State:\n",
      "[1] 1.776000 1.617979 1.604171\n"
     ]
    }
   ],
   "source": [
    "# Given Q matrix (transient states)\n",
    "Q <- matrix(c(0.18, 0.02, 0.47,\n",
    "              0.31, 0.16, 0.13,\n",
    "              0.22, 0.28, 0.10), nrow = 3, byrow = TRUE)\n",
    "\n",
    "# Calculating the fundamental matrix N\n",
    "N <- solve(diag(3) - Q)\n",
    "\n",
    "# Summing the elements of each row to get the mean number of transitions\n",
    "mean_transitions_before_absorbing <- rowSums(N - diag(3))\n",
    "\n",
    "# Printing the mean number of transitions before hitting an absorbing state\n",
    "cat(\"Mean Number of Transitions Before Hitting Absorbing State:\\n\")\n",
    "print(mean_transitions_before_absorbing)\n"
   ]
  },
  {
   "cell_type": "code",
   "execution_count": 5,
   "id": "94ff0a5a",
   "metadata": {},
   "outputs": [
    {
     "name": "stdout",
     "output_type": "stream",
     "text": [
      "Mean Number of Transitions Before Hitting Absorbing State:\n",
      "      [,1]     [,2]     [,3]\n",
      "[1,] 1.776 1.617979 1.604171\n"
     ]
    }
   ],
   "source": [
    "# Reshaping the result into a matrix\n",
    "mean_transitions_matrix <- matrix(mean_transitions_before_absorbing, nrow = 1)\n",
    "\n",
    "# Printing the mean number of transitions before hitting an absorbing state\n",
    "cat(\"Mean Number of Transitions Before Hitting Absorbing State:\\n\")\n",
    "print(mean_transitions_matrix)\n"
   ]
  },
  {
   "cell_type": "markdown",
   "id": "be075825",
   "metadata": {},
   "source": [
    "#### (f) For each state i, find the probability of ending in each of the absorbing states.\n",
    "##### To find the probability of ending in each of the absorbing states for each transient state i, we use the following formula:\n",
    "###### Probability of ending in absorbing state j given starting in transient state i = Nij×Rjj\n",
    "If the absorbing state matrix R is a diagonal matrix, there is no need to multiply it separately with the fundamental matrix N if we are interested in the probability of ending in each absorbing state for each transient state i. The fundamental matrix N already contains this information."
   ]
  },
  {
   "cell_type": "code",
   "execution_count": 15,
   "id": "50937ed7",
   "metadata": {},
   "outputs": [
    {
     "name": "stdout",
     "output_type": "stream",
     "text": [
      "Probability of Ending in Absorbing States for Each Transient State i:\n",
      "          [,1]      [,2]      [,3]\n",
      "[1,] 1.5771433 0.3278775 0.8709793\n",
      "[2,] 0.6741652 1.3908492 0.5529645\n",
      "[3,] 0.5952642 0.5128565 1.4960506\n"
     ]
    }
   ],
   "source": [
    "# Printing the probability of ending in each absorbing state for each transient state i (same as N)\n",
    "cat(\"Probability of Ending in Absorbing States for Each Transient State i:\\n\")\n",
    "print(N)"
   ]
  },
  {
   "cell_type": "markdown",
   "id": "62a7a6b4",
   "metadata": {},
   "source": [
    "## Q3: Simulate a discrete random walk in Z^2 starting at the origin and moving north with probability p1, south with p = p2, east with p = p3, and west with p = p4.\n",
    "#### P1=31/100 = 0.31, P2=40/100 = 0.40, P3=15/100 = 0.15, P4=10/100 = 0.10\n",
    "#### To simulate a discrete random walk in the Z^2 plane with given probabilities for moving in different directions,we use a simple simulation in R: (walking 10 steps)"
   ]
  },
  {
   "cell_type": "code",
   "execution_count": 2,
   "id": "3ef9f743",
   "metadata": {},
   "outputs": [
    {
     "name": "stdout",
     "output_type": "stream",
     "text": [
      "Step 1 : Current Position = 0 1 \n",
      "Step 2 : Current Position = 1 1 \n",
      "Step 3 : Current Position = 2 1 \n",
      "Step 4 : Current Position = 2 0 \n",
      "Step 5 : Current Position = 3 0 \n",
      "Step 6 : Current Position = 3 1 \n",
      "Step 7 : Current Position = 3 0 \n",
      "Step 8 : Current Position = 3 -1 \n",
      "Step 9 : Current Position = 4 -1 \n",
      "Step 10 : Current Position = 4 -2 \n",
      "Final Position after 10 steps = 4 -2 \n"
     ]
    }
   ],
   "source": [
    "# Function to simulate a random walk\n",
    "simulate_random_walk <- function(steps, p1, p2, p3, p4) {\n",
    "  # Initializing position\n",
    "  position <- c(0, 0)\n",
    "  \n",
    "  # Defining possible moves\n",
    "  moves <- c(\"North\", \"South\", \"East\", \"West\")\n",
    "  \n",
    "  # Simulating random walk\n",
    "  for (step in 1:steps) {\n",
    "    # Generating a random move based on probabilities\n",
    "    move <- sample(moves, 1, prob = c(p1, p2, p3, p4))\n",
    "    \n",
    "    # Updating position based on the move\n",
    "    if (move == \"North\") {\n",
    "      position[2] <- position[2] + 1\n",
    "    } else if (move == \"South\") {\n",
    "      position[2] <- position[2] - 1\n",
    "    } else if (move == \"East\") {\n",
    "      position[1] <- position[1] + 1\n",
    "    } else if (move == \"West\") {\n",
    "      position[1] <- position[1] - 1\n",
    "    }\n",
    "    \n",
    "    # Prining current position\n",
    "    cat(\"Step\", step, \":\", \"Current Position =\", position, \"\\n\")\n",
    "  }\n",
    "  \n",
    "  return(position)\n",
    "}\n",
    "\n",
    "# Useing the corrected probabilities from student ID\n",
    "p1 <- 0.31\n",
    "p2 <- 0.40\n",
    "p3 <- 0.15\n",
    "p4 <- 0.10\n",
    "\n",
    "# Setting number of steps\n",
    "num_steps <- 10\n",
    "\n",
    "# Simulating the random walk\n",
    "final_position <- simulate_random_walk(num_steps, p1, p2, p3, p4)\n",
    "\n",
    "# Printing final position\n",
    "cat(\"Final Position after\", num_steps, \"steps =\", final_position, \"\\n\")\n"
   ]
  },
  {
   "cell_type": "markdown",
   "id": "791779e0",
   "metadata": {},
   "source": [
    "#### (a) Plot 5 realisations of your walk with 2500 steps on the same plot"
   ]
  },
  {
   "cell_type": "code",
   "execution_count": 3,
   "id": "0f8759a3",
   "metadata": {},
   "outputs": [
    {
     "data": {
      "image/png": "[encoded data removed]",
      "text/plain": [
       "Plot with title \"Random Walk Realizations\""
      ]
     },
     "metadata": {
      "image/png": {
       "height": 420,
       "width": 420
      }
     },
     "output_type": "display_data"
    }
   ],
   "source": [
    "# Function to simulate a random walk\n",
    "simulate_random_walk <- function(steps, p1, p2, p3, p4) {\n",
    "  # Initializing the position\n",
    "  position <- c(0, 0)\n",
    "  \n",
    "  # Defining all possible moves\n",
    "  moves <- c(\"North\", \"South\", \"East\", \"West\")\n",
    "  \n",
    "  # Storing positions at each step\n",
    "  positions <- matrix(0, ncol = 2, nrow = steps + 1)\n",
    "  positions[1, ] <- position\n",
    "  \n",
    "  # Simulating the random walk\n",
    "  for (step in 1:steps) {\n",
    "    # Generate a random move based on probabilities\n",
    "    move <- sample(moves, 1, prob = c(p1, p2, p3, p4))\n",
    "    \n",
    "    # Updating the position based on the move\n",
    "    if (move == \"North\") {\n",
    "      position[2] <- position[2] + 1\n",
    "    } else if (move == \"South\") {\n",
    "      position[2] <- position[2] - 1\n",
    "    } else if (move == \"East\") {\n",
    "      position[1] <- position[1] + 1\n",
    "    } else if (move == \"West\") {\n",
    "      position[1] <- position[1] - 1\n",
    "    }\n",
    "    \n",
    "    # Storing current position\n",
    "    positions[step + 1, ] <- position\n",
    "  }\n",
    "  \n",
    "  return(positions)\n",
    "}\n",
    "\n",
    "# Setting probabilities based on student ID\n",
    "p1 <- 0.31\n",
    "p2 <- 0.40\n",
    "p3 <- 0.15\n",
    "p4 <- 0.10\n",
    "\n",
    "# Setting number of steps\n",
    "num_steps <- 2500\n",
    "\n",
    "# Setting the number of realizations\n",
    "num_realizations <- 5\n",
    "\n",
    "# Plotting 5 realizations on the same plot\n",
    "colors <- c(\"red\", \"blue\", \"green\", \"purple\", \"orange\")\n",
    "plot(0, type = \"n\", xlab = \"X-axis\", ylab = \"Y-axis\", main = \"Random Walk Realizations\")\n",
    "\n",
    "for (i in 1:num_realizations) {\n",
    "  random_walk <- simulate_random_walk(num_steps, p1, p2, p3, p4)\n",
    "  lines(random_walk[, 1], random_walk[, 2], col = colors[i], lwd = 2)\n",
    "}\n",
    "\n",
    "legend(\"topleft\", legend = 1:num_realizations, col = colors, lwd = 2, title = \"Realizations\")\n"
   ]
  },
  {
   "cell_type": "markdown",
   "id": "66a446da",
   "metadata": {},
   "source": [
    "#### (b) Calculating the expected length of the walk after 2500 steps"
   ]
  },
  {
   "cell_type": "code",
   "execution_count": 4,
   "id": "2e82be2e",
   "metadata": {
    "scrolled": true
   },
   "outputs": [
    {
     "name": "stdout",
     "output_type": "stream",
     "text": [
      "Average distance after 2500 steps across 1000 walks: 7881.651 \n"
     ]
    }
   ],
   "source": [
    "# Function to simulate a random walk\n",
    "simulate_random_walk <- function(steps, p1, p2, p3, p4) {\n",
    "  # Initializing the position\n",
    "  position <- c(0, 0)\n",
    "  \n",
    "  # Defining all possible moves\n",
    "  moves <- c(\"North\", \"South\", \"East\", \"West\")\n",
    "  \n",
    "  # Storing positions at each step\n",
    "  positions <- matrix(0, ncol = 2, nrow = steps + 1)\n",
    "  positions[1, ] <- position\n",
    "  \n",
    "  # Simulating the random walk\n",
    "  for (step in 1:steps) {\n",
    "    # Generate a random move based on probabilities\n",
    "    move <- sample(moves, 1, prob = c(p1, p2, p3, p4))\n",
    "    \n",
    "    # Updating the position based on the move\n",
    "    if (move == \"North\") {\n",
    "      position[2] <- position[2] + 1\n",
    "    } else if (move == \"South\") {\n",
    "      position[2] <- position[2] - 1\n",
    "    } else if (move == \"East\") {\n",
    "      position[1] <- position[1] + 1\n",
    "    } else if (move == \"West\") {\n",
    "      position[1] <- position[1] - 1\n",
    "    }\n",
    "    \n",
    "    # Storing current position\n",
    "    positions[step + 1, ] <- position\n",
    "  }\n",
    "  \n",
    "  return(positions)\n",
    "}\n",
    "\n",
    "# Setting probabilities based on student ID\n",
    "p1 <- 0.31\n",
    "p2 <- 0.40\n",
    "p3 <- 0.15\n",
    "p4 <- 0.10\n",
    "\n",
    "# Setting number of steps\n",
    "num_steps <- 2500\n",
    "\n",
    "# Setting the number of walks\n",
    "num_walks <- 1000 \n",
    "\n",
    "# Simulating walks and calculating distances\n",
    "distances <- numeric(num_walks)\n",
    "for (i in 1:num_walks) {\n",
    "  final_position <- simulate_random_walk(num_steps, p1, p2, p3, p4)\n",
    "  distances[i] <- sqrt(sum(final_position^2))\n",
    "}\n",
    "\n",
    "# Calculating the average distance\n",
    "average_distance <- mean(distances)\n",
    "\n",
    "# Printting the result\n",
    "cat(\"Average distance after\", num_steps, \"steps across\", num_walks, \"walks:\", average_distance, \"\\n\")\n"
   ]
  },
  {
   "cell_type": "code",
   "execution_count": 5,
   "id": "136cb706",
   "metadata": {},
   "outputs": [
    {
     "name": "stdout",
     "output_type": "stream",
     "text": [
      "Average distance after 2500 steps across 800 walks: 7894.768 \n"
     ]
    }
   ],
   "source": [
    "# Function to simulate a random walk\n",
    "simulate_random_walk <- function(steps, p1, p2, p3, p4) {\n",
    "  # Initializing the position\n",
    "  position <- c(0, 0)\n",
    "  \n",
    "  # Defining all possible moves\n",
    "  moves <- c(\"North\", \"South\", \"East\", \"West\")\n",
    "  \n",
    "  # Storing positions at each step\n",
    "  positions <- matrix(0, ncol = 2, nrow = steps + 1)\n",
    "  positions[1, ] <- position\n",
    "  \n",
    "  # Simulating the random walk\n",
    "  for (step in 1:steps) {\n",
    "    # Generate a random move based on probabilities\n",
    "    move <- sample(moves, 1, prob = c(p1, p2, p3, p4))\n",
    "    \n",
    "    # Updating the position based on the move\n",
    "    if (move == \"North\") {\n",
    "      position[2] <- position[2] + 1\n",
    "    } else if (move == \"South\") {\n",
    "      position[2] <- position[2] - 1\n",
    "    } else if (move == \"East\") {\n",
    "      position[1] <- position[1] + 1\n",
    "    } else if (move == \"West\") {\n",
    "      position[1] <- position[1] - 1\n",
    "    }\n",
    "    \n",
    "    # Storing current position\n",
    "    positions[step + 1, ] <- position\n",
    "  }\n",
    "  \n",
    "  return(positions)\n",
    "}\n",
    "\n",
    "# Setting probabilities based on student ID\n",
    "p1 <- 0.31\n",
    "p2 <- 0.40\n",
    "p3 <- 0.15\n",
    "p4 <- 0.10\n",
    "\n",
    "# Setting number of steps\n",
    "num_steps <- 2500\n",
    "\n",
    "# Setting the number of walks\n",
    "num_walks <- 800 \n",
    "\n",
    "# Simulating walks and calculating distances\n",
    "distances <- numeric(num_walks)\n",
    "for (i in 1:num_walks) {\n",
    "  final_position <- simulate_random_walk(num_steps, p1, p2, p3, p4)\n",
    "  distances[i] <- sqrt(sum(final_position^2))\n",
    "}\n",
    "\n",
    "# Calculating the average distance\n",
    "average_distance <- mean(distances)\n",
    "\n",
    "# Printting the result\n",
    "cat(\"Average distance after\", num_steps, \"steps across\", num_walks, \"walks:\", average_distance, \"\\n\")\n"
   ]
  },
  {
   "cell_type": "markdown",
   "id": "139d1852",
   "metadata": {},
   "source": [
    "#### Hence the average distance after 2500 steps across 1000 walks: around 7900\n",
    "##### The simulate_random_walk function simulates a random walk. \n",
    "##### We run a specified number of walks (num_walks), and for each walk, we calculate the Euclidean distance of the final position from the starting point. \n",
    "##### The average distance is then calculated from all the distances obtained in the simulation."
   ]
  },
  {
   "cell_type": "markdown",
   "id": "1b019555",
   "metadata": {},
   "source": [
    "## Q4 A generalised random walk is given by dS = a(x, t)dt + b(x, t)dW, where a(x, t), b(x, t) are given functions of space and time and dW is a Weiner process i.e. δW = ϵ√δt and ϵ is a random number normally distributed with a mean of 0 and a variance of 1.\n",
    "\n",
    "#### (a) Simulating this random walk in 1 dimension with your own choice of a(x, t) and b(x, t)"
   ]
  },
  {
   "cell_type": "markdown",
   "id": "a050c46d",
   "metadata": {},
   "source": [
    "#### To simulate a generalized random walk in 1 dimension given by dS = a(x, t)dt + b(x, t)dW, we use numerical methods such as the Euler-Maruyama method. This method discretizes the differential equation to perform the simulation."
   ]
  },
  {
   "cell_type": "code",
   "execution_count": 9,
   "id": "95a09892",
   "metadata": {},
   "outputs": [
    {
     "data": {
      "image/png": "[encoded data removed]",
      "text/plain": [
       "Plot with title \"Generalized Random Walk Simulation\""
      ]
     },
     "metadata": {
      "image/png": {
       "height": 420,
       "width": 420
      }
     },
     "output_type": "display_data"
    }
   ],
   "source": [
    "# Parameters\n",
    "num_steps <- 1000  # Number of time steps\n",
    "delta_t <- 0.01    # Time step size\n",
    "epsilon <- rnorm(num_steps, mean = 0, sd = 1) * sqrt(delta_t)  # Wiener process increments\n",
    "\n",
    "# Function to define a(x, t)\n",
    "a <- function(x, t) {\n",
    "  return(0.01 * x * t)  # Adjust the scaling factor\n",
    "}\n",
    "\n",
    "# Function to define b(x, t)\n",
    "b <- function(x, t) {\n",
    "  return(0.02 * sin(x) + 0.01 * t)  # Adjust the scaling factor\n",
    "}\n",
    "\n",
    "# Initializing arrays to store results\n",
    "S <- numeric(num_steps + 1)\n",
    "S[1] <- 0  # Initial condition\n",
    "\n",
    "# Simulating the random walk\n",
    "for (i in 1:num_steps) {\n",
    "  S[i + 1] <- S[i] + a(S[i], i * delta_t) * delta_t + b(S[i], i * delta_t) * epsilon[i]\n",
    "}\n",
    "\n",
    "# Plotting the results\n",
    "time <- seq(0, num_steps * delta_t, by = delta_t)\n",
    "plot(time, S, type = \"l\", col = \"blue\", xlab = \"Time\", ylab = \"Position\", main = \"Generalized Random Walk Simulation\")\n"
   ]
  },
  {
   "cell_type": "markdown",
   "id": "54b984bf",
   "metadata": {},
   "source": [
    "#### (b) Estimating the expected value for the walk after 2500 steps"
   ]
  },
  {
   "cell_type": "code",
   "execution_count": 10,
   "id": "ee2fe233",
   "metadata": {},
   "outputs": [
    {
     "name": "stdout",
     "output_type": "stream",
     "text": [
      "Min final position: -13.09991 \n",
      "Max final position: 18.50333 \n",
      "Average final position after 2500 steps across 1000 simulations: -0.1659733 \n"
     ]
    }
   ],
   "source": [
    "# Function to simulate a generalized random walk\n",
    "simulate_generalized_random_walk <- function(num_steps, delta_t, num_simulations) {\n",
    "  epsilon_matrix <- matrix(rnorm(num_steps * num_simulations, mean = 0, sd = 1) * sqrt(delta_t), nrow = num_simulations)\n",
    "\n",
    "  # Initializing arrays to store results\n",
    "  S <- matrix(0, nrow = num_simulations, ncol = num_steps + 1)\n",
    "\n",
    "  # Simulating random walks\n",
    "  for (i in 1:num_simulations) {\n",
    "    for (j in 1:num_steps) {\n",
    "      S[i, j + 1] <- S[i, j] + a(S[i, j], j * delta_t) * delta_t + b(S[i, j], j * delta_t) * epsilon_matrix[i, j]\n",
    "    }\n",
    "  }\n",
    "\n",
    "  return(S)\n",
    "}\n",
    "\n",
    "# Parameters\n",
    "num_steps <- 2500\n",
    "num_simulations <- 1000 \n",
    "\n",
    "# Simulating generalized random walks\n",
    "simulated_walks <- simulate_generalized_random_walk(num_steps, delta_t, num_simulations)\n",
    "\n",
    "# Printting some diagnostic information\n",
    "cat(\"Min final position:\", min(simulated_walks[, num_steps + 1]), \"\\n\")\n",
    "cat(\"Max final position:\", max(simulated_walks[, num_steps + 1]), \"\\n\")\n",
    "\n",
    "# Calculating the average final position after 2500 steps\n",
    "average_final_position <- mean(simulated_walks[, num_steps + 1])\n",
    "\n",
    "# Printing the result\n",
    "cat(\"Average final position after\", num_steps, \"steps across\", num_simulations, \"simulations:\", average_final_position, \"\\n\")"
   ]
  },
  {
   "cell_type": "markdown",
   "id": "fecff3a6",
   "metadata": {},
   "source": [
    "#### (c) If the walk starts at x = 0, calculating the probability that x > 0 after 2500 steps"
   ]
  },
  {
   "cell_type": "code",
   "execution_count": 11,
   "id": "e3dd0b04",
   "metadata": {},
   "outputs": [
    {
     "name": "stdout",
     "output_type": "stream",
     "text": [
      "Probability that x > 0 after 2500 steps across 1000 simulations: 0.473 \n"
     ]
    }
   ],
   "source": [
    "# Calculating the probability that x > 0 after 2500 steps\n",
    "probability_x_positive <- sum(simulated_walks[, num_steps + 1] > 0) / num_simulations\n",
    "\n",
    "# Printing the result\n",
    "cat(\"Probability that x > 0 after\", num_steps, \"steps across\", num_simulations, \"simulations:\", probability_x_positive, \"\\n\")\n"
   ]
  },
  {
   "cell_type": "markdown",
   "id": "2335015e",
   "metadata": {},
   "source": [
    "## Q5  simulate a random walk to estimate the value of π using the described approach."
   ]
  },
  {
   "cell_type": "code",
   "execution_count": 13,
   "id": "a7dfe932",
   "metadata": {},
   "outputs": [
    {
     "name": "stdout",
     "output_type": "stream",
     "text": [
      "Estimated values of pi: 3.127667 3.136667 3.108 3.130333 3.147333 \n"
     ]
    }
   ],
   "source": [
    "# Function to simulate a random walk and estimate pi\n",
    "simulate_pi_estimate <- function(num_points) {\n",
    "  x <- runif(num_points, min = -1, max = 1)\n",
    "  y <- runif(num_points, min = -1, max = 1)\n",
    "\n",
    "  # Calculating distances from the origin\n",
    "  distances <- sqrt(x^2 + y^2)\n",
    "\n",
    "  # Counting points inside the circle\n",
    "  points_inside_circle <- sum(distances <= 1)\n",
    "\n",
    "  # Estimating pi using the ratio\n",
    "  pi_estimate <- 4 * points_inside_circle / num_points\n",
    "\n",
    "  return(pi_estimate)\n",
    "}\n",
    "\n",
    "# Number of random walks\n",
    "num_walks <- 5\n",
    "\n",
    "# Number of points in each walk\n",
    "num_points_per_walk <- 12000\n",
    "\n",
    "# Simulating random walks to estimate pi\n",
    "pi_estimates <- sapply(1:num_walks, function(i) simulate_pi_estimate(num_points_per_walk))\n",
    "\n",
    "# Printing the estimated values\n",
    "cat(\"Estimated values of pi:\", pi_estimates, \"\\n\")\n"
   ]
  },
  {
   "cell_type": "markdown",
   "id": "c96b1679",
   "metadata": {},
   "source": [
    "#### (a) Generating 5 chains, calculating the value of π after a large number of steps\n",
    "##### To generate 5 chains and calculate the value of π after a large number of steps, you can modify the previous code to include multiple chains."
   ]
  },
  {
   "cell_type": "code",
   "execution_count": 14,
   "id": "2bf55c51",
   "metadata": {},
   "outputs": [
    {
     "name": "stdout",
     "output_type": "stream",
     "text": [
      "Estimated values of pi for each chain: 3.1656 3.1348 3.1112 3.1392 3.1044 \n"
     ]
    }
   ],
   "source": [
    "# Function to simulate a random walk and estimate pi\n",
    "simulate_pi_estimate_chain <- function(num_points, burn_in) {\n",
    "  x <- runif(num_points + burn_in, min = -1, max = 1)\n",
    "  y <- runif(num_points + burn_in, min = -1, max = 1)\n",
    "\n",
    "  # Calculating distances from the origin\n",
    "  distances <- sqrt(x^2 + y^2)\n",
    "\n",
    "  # Discarding burn-in samples\n",
    "  distances <- distances[(burn_in + 1):(num_points + burn_in)]\n",
    "\n",
    "  # Counting points inside the circle\n",
    "  points_inside_circle <- sum(distances <= 1)\n",
    "\n",
    "  # Estimating pi using the ratio\n",
    "  pi_estimate <- 4 * points_inside_circle / num_points\n",
    "\n",
    "  return(pi_estimate)\n",
    "}\n",
    "\n",
    "# Number of chains\n",
    "num_chains <- 5\n",
    "\n",
    "# Number of points and burn-in for each chain\n",
    "num_points_per_chain <- 10000\n",
    "burn_in_per_chain <- 1000  # Adjust as needed\n",
    "\n",
    "# Simulating multiple chains to estimate pi\n",
    "pi_estimates_chain <- sapply(1:num_chains, function(i) simulate_pi_estimate_chain(num_points_per_chain, burn_in_per_chain))\n",
    "\n",
    "# Printing the estimated values\n",
    "cat(\"Estimated values of pi for each chain:\", pi_estimates_chain, \"\\n\")\n"
   ]
  },
  {
   "cell_type": "markdown",
   "id": "e75cde18",
   "metadata": {},
   "source": [
    "#### (b) Calculating an estimate for π and giving an estimate of the error."
   ]
  },
  {
   "cell_type": "code",
   "execution_count": 15,
   "id": "c4f78806",
   "metadata": {},
   "outputs": [
    {
     "name": "stdout",
     "output_type": "stream",
     "text": [
      "Overall estimate of pi: 3.13104 \n",
      "Standard deviation of estimates: 0.02438459 \n",
      "Error estimate: 0.01090512 \n"
     ]
    }
   ],
   "source": [
    "# Calculating the overall estimate of pi\n",
    "overall_pi_estimate <- mean(pi_estimates_chain)\n",
    "\n",
    "# Calculating the standard deviation of the estimates\n",
    "pi_estimate_std <- sd(pi_estimates_chain)\n",
    "\n",
    "# Calculating the error (standard deviation / sqrt(number of chains))\n",
    "error_estimate <- pi_estimate_std / sqrt(num_chains)\n",
    "\n",
    "# Printing the results\n",
    "cat(\"Overall estimate of pi:\", overall_pi_estimate, \"\\n\")\n",
    "cat(\"Standard deviation of estimates:\", pi_estimate_std, \"\\n\")\n",
    "cat(\"Error estimate:\", error_estimate, \"\\n\")\n"
   ]
  }
 ],
 "metadata": {
  "kernelspec": {
   "display_name": "R",
   "language": "R",
   "name": "ir"
  },
  "language_info": {
   "codemirror_mode": "r",
   "file_extension": ".r",
   "mimetype": "text/x-r-source",
   "name": "R",
   "pygments_lexer": "r",
   "version": "4.0.5"
  }
 },
 "nbformat": 4,
 "nbformat_minor": 5
}
