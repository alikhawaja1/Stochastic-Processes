{
 "cells": [
  {
   "cell_type": "markdown",
   "id": "4fc82d94",
   "metadata": {},
   "source": [
    "# Assignment 1 (Stochastic Processes)\n",
    "\n",
    "\n",
    "## Q1:State your student id and the values of p1, p2, p3, p4.\n",
    "### Take a 7-digit student number, append a random digit to the end to make it an 8 digit number.\n",
    "### For p1: we take the first 2 digits of the number and divide by 100. For p2: we take the second 2 digits of the number and divide by 100. For p3: take the third 2 digits of the number and divide by 100. For p4: take the fourth 2 digits of the number and divide by 100.\n",
    "\n",
    "### Student ID = 3141760, adding a random number '3' to make it 31417603.\n",
    "P1=31/100 = 0.31, P2=41/100 = 0.41, P3=76/100 = 0.76, P4=03/100 = 0.03\n",
    "\n",
    "### Normalizing:\n",
    "To make these probabilities true, we normalize them.\n",
    "##### Dividing each probability by the sum of all\n",
    "P(n) = Pn/Sum of Pn. \n",
    "\n",
    "Sum=p1+p2+p3+p4 = 0.31+0.41+0.76+0.03 = 1.51\n",
    "\n",
    "P(norm.)1 = 0.31/1.51 = 0.205,\n",
    "P(norm.)2 = 0.41/1.51 = 0.271,\n",
    "P(norm.)3 = 0.76/1.51 = 0.503,\n",
    "P(norm.)4 = 0.03/1.51 = 0.02,\n",
    "\n",
    "To check that, we ensure that the sum of the normalized probabilities is 1:\n",
    ".205+.271+.503+.02 ~=~ 1\n",
    "\n",
    "\n",
    "\n"
   ]
  },
  {
   "cell_type": "markdown",
   "id": "a20a7d3a",
   "metadata": {},
   "source": [
    "## Q2:Some stochastic process, with states labelled A, B, C, D, E, has the following tranisition matrix:"
   ]
  },
  {
   "cell_type": "code",
   "execution_count": 10,
   "id": "9bf22da1",
   "metadata": {},
   "outputs": [
    {
     "data": {
      "text/html": [
       "<table class=\"dataframe\">\n",
       "<caption>A matrix: 5 × 5 of type chr</caption>\n",
       "<tbody>\n",
       "\t<tr><td>0.18</td><td>0.1 </td><td>0.23</td><td>0.02</td><td>0.47</td></tr>\n",
       "\t<tr><td>0   </td><td>1   </td><td>0   </td><td>0   </td><td>0   </td></tr>\n",
       "\t<tr><td>0   </td><td>0   </td><td>1   </td><td>0   </td><td>0   </td></tr>\n",
       "\t<tr><td>0.31</td><td>0.19</td><td>0.21</td><td>x   </td><td>0.13</td></tr>\n",
       "\t<tr><td>0.22</td><td>0.32</td><td>0.08</td><td>0.28</td><td>0.1 </td></tr>\n",
       "</tbody>\n",
       "</table>\n"
      ],
      "text/latex": [
       "A matrix: 5 × 5 of type chr\n",
       "\\begin{tabular}{lllll}\n",
       "\t 0.18 & 0.1  & 0.23 & 0.02 & 0.47\\\\\n",
       "\t 0    & 1    & 0    & 0    & 0   \\\\\n",
       "\t 0    & 0    & 1    & 0    & 0   \\\\\n",
       "\t 0.31 & 0.19 & 0.21 & x    & 0.13\\\\\n",
       "\t 0.22 & 0.32 & 0.08 & 0.28 & 0.1 \\\\\n",
       "\\end{tabular}\n"
      ],
      "text/markdown": [
       "\n",
       "A matrix: 5 × 5 of type chr\n",
       "\n",
       "| 0.18 | 0.1  | 0.23 | 0.02 | 0.47 |\n",
       "| 0    | 1    | 0    | 0    | 0    |\n",
       "| 0    | 0    | 1    | 0    | 0    |\n",
       "| 0.31 | 0.19 | 0.21 | x    | 0.13 |\n",
       "| 0.22 | 0.32 | 0.08 | 0.28 | 0.1  |\n",
       "\n"
      ],
      "text/plain": [
       "     [,1] [,2] [,3] [,4] [,5]\n",
       "[1,] 0.18 0.1  0.23 0.02 0.47\n",
       "[2,] 0    1    0    0    0   \n",
       "[3,] 0    0    1    0    0   \n",
       "[4,] 0.31 0.19 0.21 x    0.13\n",
       "[5,] 0.22 0.32 0.08 0.28 0.1 "
      ]
     },
     "metadata": {},
     "output_type": "display_data"
    }
   ],
   "source": [
    "P <- matrix(c(0.18, 0.1, 0.23, 0.02, 0.47,\n",
    "              0.0, 1.0, 0.0, 0.0, 0.0,\n",
    "              0.0, 0.0, 1.0, 0.0, 0.0,\n",
    "              0.31, 0.19, 0.21, \"x\", 0.13,\n",
    "              0.22, 0.32, 0.08, 0.28, 0.10), nrow = 5, byrow = TRUE)\n",
    "P"
   ]
  },
  {
   "cell_type": "markdown",
   "id": "4c4a30d1",
   "metadata": {},
   "source": [
    "### (a) Given that the matrix is stochastic matrix, (the sum of each row = 1), find the value of \"x\":\n",
    "0.31+0.19+0.21+x+0.13 = 1\n",
    "### Solving for \"x\"\n",
    "x = 1−0.84 = 0.16"
   ]
  },
  {
   "cell_type": "code",
   "execution_count": 1,
   "id": "a43d4e48",
   "metadata": {},
   "outputs": [
    {
     "data": {
      "text/html": [
       "<table class=\"dataframe\">\n",
       "<caption>A matrix: 5 × 5 of type dbl</caption>\n",
       "<tbody>\n",
       "\t<tr><td>0.18</td><td>0.10</td><td>0.23</td><td>0.02</td><td>0.47</td></tr>\n",
       "\t<tr><td>0.00</td><td>1.00</td><td>0.00</td><td>0.00</td><td>0.00</td></tr>\n",
       "\t<tr><td>0.00</td><td>0.00</td><td>1.00</td><td>0.00</td><td>0.00</td></tr>\n",
       "\t<tr><td>0.31</td><td>0.19</td><td>0.21</td><td>0.16</td><td>0.13</td></tr>\n",
       "\t<tr><td>0.22</td><td>0.32</td><td>0.08</td><td>0.28</td><td>0.10</td></tr>\n",
       "</tbody>\n",
       "</table>\n"
      ],
      "text/latex": [
       "A matrix: 5 × 5 of type dbl\n",
       "\\begin{tabular}{lllll}\n",
       "\t 0.18 & 0.10 & 0.23 & 0.02 & 0.47\\\\\n",
       "\t 0.00 & 1.00 & 0.00 & 0.00 & 0.00\\\\\n",
       "\t 0.00 & 0.00 & 1.00 & 0.00 & 0.00\\\\\n",
       "\t 0.31 & 0.19 & 0.21 & 0.16 & 0.13\\\\\n",
       "\t 0.22 & 0.32 & 0.08 & 0.28 & 0.10\\\\\n",
       "\\end{tabular}\n"
      ],
      "text/markdown": [
       "\n",
       "A matrix: 5 × 5 of type dbl\n",
       "\n",
       "| 0.18 | 0.10 | 0.23 | 0.02 | 0.47 |\n",
       "| 0.00 | 1.00 | 0.00 | 0.00 | 0.00 |\n",
       "| 0.00 | 0.00 | 1.00 | 0.00 | 0.00 |\n",
       "| 0.31 | 0.19 | 0.21 | 0.16 | 0.13 |\n",
       "| 0.22 | 0.32 | 0.08 | 0.28 | 0.10 |\n",
       "\n"
      ],
      "text/plain": [
       "     [,1] [,2] [,3] [,4] [,5]\n",
       "[1,] 0.18 0.10 0.23 0.02 0.47\n",
       "[2,] 0.00 1.00 0.00 0.00 0.00\n",
       "[3,] 0.00 0.00 1.00 0.00 0.00\n",
       "[4,] 0.31 0.19 0.21 0.16 0.13\n",
       "[5,] 0.22 0.32 0.08 0.28 0.10"
      ]
     },
     "metadata": {},
     "output_type": "display_data"
    },
    {
     "name": "stderr",
     "output_type": "stream",
     "text": [
      "\n",
      "Attaching package: 'igraph'\n",
      "\n",
      "\n",
      "The following objects are masked from 'package:stats':\n",
      "\n",
      "    decompose, spectrum\n",
      "\n",
      "\n",
      "The following object is masked from 'package:base':\n",
      "\n",
      "    union\n",
      "\n",
      "\n"
     ]
    },
    {
     "data": {
      "image/png": "[encoded data removed]",
      "text/plain": [
       "Plot with title \"\""
      ]
     },
     "metadata": {
      "image/png": {
       "height": 420,
       "width": 420
      }
     },
     "output_type": "display_data"
    }
   ],
   "source": [
    "# the \"P\" matrix hence is:\n",
    "P <- matrix(c(0.18, 0.1, 0.23, 0.02, 0.47,\n",
    "              0.0, 1.0, 0.0, 0.0, 0.0,\n",
    "              0.0, 0.0, 1.0, 0.0, 0.0,\n",
    "              0.31, 0.19, 0.21, 0.16, 0.13,\n",
    "              0.22, 0.32, 0.08, 0.28, 0.10), nrow = 5, byrow = TRUE)\n",
    "P\n",
    "library(igraph)\n",
    "# Define node labels\n",
    "# Create a directed graph\n",
    "# Plot the state space diagram\n",
    "nodes <- c(\"A\", \"B\", \"C\", \"D\", \"E\")\n",
    "graph <- graph_from_adjacency_matrix(P, mode = \"directed\", weighted = TRUE, diag = FALSE)\n",
    "\n",
    "\n",
    "plot(graph, vertex.label = nodes, vertex.size = 30, edge.arrow.size = 0.5)"
   ]
  },
  {
   "cell_type": "markdown",
   "id": "16736f4e",
   "metadata": {},
   "source": [
    "## (b) Assuming the initial distribution of states is A (13%), B (24%), C (32%), D (28%), and E (3%) calculate the distribution of states after 3 generations:\n",
    "To calculate the distribution of states after 3 generations, the matrix multiplication is used. The initial distribution of states is represented as a row vector, and by repeatedly multiplying this vector by the transition matrix, we get the distribution after each generation.\n",
    "### Mathematically: v3 = v0 * P^3"
   ]
  },
  {
   "cell_type": "code",
   "execution_count": 2,
   "id": "a054ec30",
   "metadata": {},
   "outputs": [
    {
     "name": "stdout",
     "output_type": "stream",
     "text": [
      "         [,1]     [,2]      [,3]       [,4]       [,5]\n",
      "[1,] 0.038977 0.406876 0.4856722 0.02772928 0.04074556\n"
     ]
    }
   ],
   "source": [
    "# Define the initial distribution vector\n",
    "# Calculate the distribution after 3 generations\n",
    "v0 <- c(0.13, 0.24, 0.32, 0.28, 0.03)\n",
    "v3 <- v0 %*% P %*% P %*% P\n",
    "\n",
    "# Result\n",
    "print(v3)"
   ]
  },
  {
   "cell_type": "markdown",
   "id": "92448a59",
   "metadata": {},
   "source": [
    "## (c) Rewrite the stochastic matrix P in canonical form:\n",
    "### To rewrite the stochastic matrix P in canonical form, identifying the matrices R and Q is required, such that: P = R + Q.\n",
    "### To find R and Q for the given stochastic matrix P:"
   ]
  },
  {
   "cell_type": "code",
   "execution_count": 2,
   "id": "6c08d3aa",
   "metadata": {},
   "outputs": [
    {
     "name": "stdout",
     "output_type": "stream",
     "text": [
      "R:\n",
      "     [,1] [,2]\n",
      "[1,]    1    0\n",
      "[2,]    0    1\n",
      "\n",
      "Q:\n",
      "     [,1] [,2] [,3]\n",
      "[1,] 0.18 0.02 0.47\n",
      "[2,] 0.31 0.16 0.13\n",
      "[3,] 0.22 0.28 0.10\n"
     ]
    }
   ],
   "source": [
    "P <- matrix(c(0.18, 0.1, 0.23, 0.02, 0.47,\n",
    "              0.0, 1.0, 0.0, 0.0, 0.0,\n",
    "              0.0, 0.0, 1.0, 0.0, 0.0,\n",
    "              0.31, 0.19, 0.21, 0.16, 0.13,\n",
    "              0.22, 0.32, 0.08, 0.28, 0.10), nrow = 5, byrow = TRUE)\n",
    "\n",
    "# Finding absorbing states (rows with 1 on the diagonal in P)\n",
    "# Extracting R (absorbing states) and Q (non-absorbing states)\n",
    "absorbing_states <- which(diag(P) == 1)\n",
    "R <- P[absorbing_states, absorbing_states]\n",
    "Q <- P[-absorbing_states, -absorbing_states]\n",
    "\n",
    "# Print R and Q\n",
    "cat(\"R:\\n\")\n",
    "print(R)\n",
    "\n",
    "cat(\"\\nQ:\\n\")\n",
    "print(Q)"
   ]
  },
  {
   "cell_type": "markdown",
   "id": "9ffe53f8",
   "metadata": {},
   "source": [
    "Here, R represents the absorbing states, and Q represents the transient states."
   ]
  },
  {
   "cell_type": "markdown",
   "id": "a844e4bf",
   "metadata": {},
   "source": [
    "## (d) For each state, i, calculate the mean number of times that the process is in a transient state j, given it started in i.\n",
    "###  The fundamental matrix approach is used. The fundamental matrix N is given by: N = (I-Q)^-1"
   ]
  },
  {
   "cell_type": "code",
   "execution_count": 3,
   "id": "f15f262a",
   "metadata": {},
   "outputs": [
    {
     "name": "stdout",
     "output_type": "stream",
     "text": [
      "Fundamental Matrix N:\n",
      "          [,1]      [,2]      [,3]\n",
      "[1,] 1.5771433 0.3278775 0.8709793\n",
      "[2,] 0.6741652 1.3908492 0.5529645\n",
      "[3,] 0.5952642 0.5128565 1.4960506\n",
      "\n",
      "Mean Number of Times in Transient States:\n",
      "          [,1]      [,2]      [,3]\n",
      "[1,] 0.5771433 0.3278775 0.8709793\n",
      "[2,] 0.6741652 0.3908492 0.5529645\n",
      "[3,] 0.5952642 0.5128565 0.4960506\n"
     ]
    }
   ],
   "source": [
    "# Given Q matrix (transient states)\n",
    "Q <- matrix(c(0.18, 0.02, 0.47,\n",
    "              0.31, 0.16, 0.13,\n",
    "              0.22, 0.28, 0.10), nrow = 3, byrow = TRUE)\n",
    "\n",
    "# Calculate the fundamental matrix N\n",
    "# Print the fundamental matrix N\n",
    "N <- solve(diag(3) - Q)\n",
    "cat(\"Fundamental Matrix N:\\n\")\n",
    "print(N)\n",
    "\n",
    "# Calculate the mean number of times in each transient state for each initial state\n",
    "# Print the mean number of times\n",
    "mean_times <- N - diag(3)\n",
    "cat(\"\\nMean Number of Times in Transient States:\\n\")\n",
    "print(mean_times)\n"
   ]
  },
  {
   "cell_type": "markdown",
   "id": "7a67f87b",
   "metadata": {},
   "source": [
    "## (e) For each state i, find the mean number of transitions before the process hits an absorbing state, given that the process starts in a transient state i.\n",
    "### We do it using the fundamental matrix N, where Mi = Nij - 1."
   ]
  },
  {
   "cell_type": "code",
   "execution_count": 4,
   "id": "b031807b",
   "metadata": {},
   "outputs": [
    {
     "name": "stdout",
     "output_type": "stream",
     "text": [
      "Mean Number of Transitions Before Hitting Absorbing State:\n",
      "[1] 1.776000 1.617979 1.604171\n"
     ]
    }
   ],
   "source": [
    "# Given Q matrix (transient states)\n",
    "Q <- matrix(c(0.18, 0.02, 0.47,\n",
    "              0.31, 0.16, 0.13,\n",
    "              0.22, 0.28, 0.10), nrow = 3, byrow = TRUE)\n",
    "\n",
    "# Calculate the fundamental matrix N\n",
    "# Sum the elements of each row to get the mean number of transitions\n",
    "N <- solve(diag(3) - Q)\n",
    "mean_transitions_before_absorbing <- rowSums(N - diag(3))\n",
    "\n",
    "# Print the mean number of transitions before hitting an absorbing state\n",
    "cat(\"Mean Number of Transitions Before Hitting Absorbing State:\\n\")\n",
    "print(mean_transitions_before_absorbing)\n"
   ]
  },
  {
   "cell_type": "markdown",
   "id": "be075825",
   "metadata": {},
   "source": [
    "## (f) For each state i, find the probability of ending in each of the absorbing states.\n",
    "### To find the probability of ending in each of the absorbing states for each transient state i, the following formula is used:\n",
    "### Probability of ending in absorbing state j given starting in transient state i = Nij×Rjj\n",
    "If the absorbing state matrix R is a diagonal matrix, there is no need to multiply it separately with the fundamental matrix N. The fundamental matrix N already contains the required information."
   ]
  },
  {
   "cell_type": "code",
   "execution_count": 15,
   "id": "50937ed7",
   "metadata": {},
   "outputs": [
    {
     "name": "stdout",
     "output_type": "stream",
     "text": [
      "Probability of Ending in Absorbing States for Each Transient State i:\n",
      "          [,1]      [,2]      [,3]\n",
      "[1,] 1.5771433 0.3278775 0.8709793\n",
      "[2,] 0.6741652 1.3908492 0.5529645\n",
      "[3,] 0.5952642 0.5128565 1.4960506\n"
     ]
    }
   ],
   "source": [
    "# Print the probability of ending in each absorbing state for each transient state i (same as N)\n",
    "cat(\"Probability of Ending in Absorbing States for Each Transient State i:\\n\")\n",
    "print(N)"
   ]
  },
  {
   "cell_type": "markdown",
   "id": "62a7a6b4",
   "metadata": {},
   "source": [
    "## Q3: Simulate a discrete random walk in Z^2 starting at the origin and moving north with probability p1, south with p = p2, east with p = p3, and west with p = p4.\n",
    "### P1=31/100 = 0.31, P2=41/100 = 0.41, P3=76/100 = 0.76, P4=03/100 = 0.03\n",
    "### For a simulation of a discrete random walk in the Z square plane with given probabilities for moving in different directions, the simple simulation in R is used: (20 steps)"
   ]
  },
  {
   "cell_type": "code",
   "execution_count": 1,
   "id": "3ef9f743",
   "metadata": {},
   "outputs": [
    {
     "name": "stdout",
     "output_type": "stream",
     "text": [
      "Step 1 : Current Position = 1 0 \n",
      "Step 2 : Current Position = 2 0 \n",
      "Step 3 : Current Position = 2 -1 \n",
      "Step 4 : Current Position = 3 -1 \n",
      "Step 5 : Current Position = 3 0 \n",
      "Step 6 : Current Position = 4 0 \n",
      "Step 7 : Current Position = 4 -1 \n",
      "Step 8 : Current Position = 4 -2 \n",
      "Step 9 : Current Position = 4 -3 \n",
      "Step 10 : Current Position = 4 -4 \n",
      "Step 11 : Current Position = 4 -5 \n",
      "Step 12 : Current Position = 4 -6 \n",
      "Step 13 : Current Position = 4 -5 \n",
      "Step 14 : Current Position = 5 -5 \n",
      "Step 15 : Current Position = 6 -5 \n",
      "Step 16 : Current Position = 7 -5 \n",
      "Step 17 : Current Position = 7 -6 \n",
      "Step 18 : Current Position = 8 -6 \n",
      "Step 19 : Current Position = 9 -6 \n",
      "Step 20 : Current Position = 9 -5 \n",
      "Final Position after 20 steps = 9 -5 \n"
     ]
    }
   ],
   "source": [
    "# Function to simulate a random walk\n",
    "simulate_random_walk <- function(steps, p1, p2, p3, p4) {\n",
    "  # Initializing position\n",
    "  position <- c(0, 0)\n",
    "  \n",
    "  # Define possible moves\n",
    "  moves <- c(\"North\", \"South\", \"East\", \"West\")\n",
    "  \n",
    "  # Simulate random walk\n",
    "  for (step in 1:steps) {\n",
    "    # Generate a random move based on probabilities\n",
    "    move <- sample(moves, 1, prob = c(p1, p2, p3, p4))\n",
    "    \n",
    "    # Update position based on the move\n",
    "    if (move == \"North\") {\n",
    "      position[2] <- position[2] + 1\n",
    "    } else if (move == \"South\") {\n",
    "      position[2] <- position[2] - 1\n",
    "    } else if (move == \"East\") {\n",
    "      position[1] <- position[1] + 1\n",
    "    } else if (move == \"West\") {\n",
    "      position[1] <- position[1] - 1\n",
    "    }\n",
    "    \n",
    "    # Print current position\n",
    "    cat(\"Step\", step, \":\", \"Current Position =\", position, \"\\n\")\n",
    "  }\n",
    "  \n",
    "  return(position)\n",
    "}\n",
    "\n",
    "# Use the corrected probabilities from student ID\n",
    "p1 <- 0.31\n",
    "p2 <- 0.41\n",
    "p3 <- 0.76\n",
    "p4 <- 0.03\n",
    "\n",
    "# Set number of steps\n",
    "# Simulate the random walk\n",
    "num_steps <- 20\n",
    "final_position <- simulate_random_walk(num_steps, p1, p2, p3, p4)\n",
    "\n",
    "# Print final position\n",
    "cat(\"Final Position after\", num_steps, \"steps =\", final_position, \"\\n\")\n"
   ]
  },
  {
   "cell_type": "markdown",
   "id": "791779e0",
   "metadata": {},
   "source": [
    "### (a) Plot 5 realisations of your walk with 2500 steps on the same plot"
   ]
  },
  {
   "cell_type": "code",
   "execution_count": 2,
   "id": "0f8759a3",
   "metadata": {},
   "outputs": [
    {
     "data": {
      "image/png": "[encoded data removed]",
      "text/plain": [
       "Plot with title \"Random Walk Realizations\""
      ]
     },
     "metadata": {
      "image/png": {
       "height": 420,
       "width": 420
      }
     },
     "output_type": "display_data"
    }
   ],
   "source": [
    "# Function to simulate a random walk\n",
    "simulate_random_walk <- function(steps, p1, p2, p3, p4) {\n",
    "  # Initializing the position\n",
    "  position <- c(0, 0)\n",
    "  \n",
    "  # Define all possible moves\n",
    "  moves <- c(\"North\", \"South\", \"East\", \"West\")\n",
    "  \n",
    "  # Stort positions at each step\n",
    "  positions <- matrix(0, ncol = 2, nrow = steps + 1)\n",
    "  positions[1, ] <- position\n",
    "  \n",
    "  # Simulate the random walk\n",
    "  for (step in 1:steps) {\n",
    "    # Generate a random move based on probabilities\n",
    "    move <- sample(moves, 1, prob = c(p1, p2, p3, p4))\n",
    "    \n",
    "    # Update the position based on the move\n",
    "    if (move == \"North\") {\n",
    "      position[2] <- position[2] + 1\n",
    "    } else if (move == \"South\") {\n",
    "      position[2] <- position[2] - 1\n",
    "    } else if (move == \"East\") {\n",
    "      position[1] <- position[1] + 1\n",
    "    } else if (move == \"West\") {\n",
    "      position[1] <- position[1] - 1\n",
    "    }\n",
    "    \n",
    "    # Stort current position\n",
    "    positions[step + 1, ] <- position\n",
    "  }\n",
    "  \n",
    "  return(positions)\n",
    "}\n",
    "\n",
    "# Set probabilities based on student ID\n",
    "p1 <- 0.31\n",
    "p2 <- 0.41\n",
    "p3 <- 0.76\n",
    "p4 <- 0.03\n",
    "\n",
    "# Set number of steps\n",
    "# Set the number of realizations\n",
    "num_steps <- 2500\n",
    "num_realizations <- 5\n",
    "\n",
    "# Plot 5 realizations on the same plot\n",
    "colors <- c(\"red\", \"blue\", \"green\", \"purple\", \"orange\")\n",
    "plot(0, type = \"n\", xlab = \"X-axis\", ylab = \"Y-axis\", main = \"Random Walk Realizations\")\n",
    "\n",
    "for (i in 1:num_realizations) {\n",
    "  random_walk <- simulate_random_walk(num_steps, p1, p2, p3, p4)\n",
    "  lines(random_walk[, 1], random_walk[, 2], col = colors[i], lwd = 2)\n",
    "}\n",
    "\n",
    "legend(\"topleft\", legend = 1:num_realizations, col = colors, lwd = 2, title = \"Realizations\")\n"
   ]
  },
  {
   "cell_type": "markdown",
   "id": "66a446da",
   "metadata": {},
   "source": [
    "### (b) Calculate the expected length of the walk after 2500 steps"
   ]
  },
  {
   "cell_type": "code",
   "execution_count": 3,
   "id": "2e82be2e",
   "metadata": {
    "scrolled": true
   },
   "outputs": [
    {
     "name": "stdout",
     "output_type": "stream",
     "text": [
      "Average distance after 2500 steps across 1000 walks: 35229.04 \n"
     ]
    }
   ],
   "source": [
    "# Function to simulate a random walk\n",
    "simulate_random_walk <- function(steps, p1, p2, p3, p4) {\n",
    "  # Initialize the position\n",
    "  position <- c(0, 0)\n",
    "  \n",
    "  # Define all possible moves\n",
    "  moves <- c(\"North\", \"South\", \"East\", \"West\")\n",
    "  \n",
    "  # Stort positions at each step\n",
    "  positions <- matrix(0, ncol = 2, nrow = steps + 1)\n",
    "  positions[1, ] <- position\n",
    "  \n",
    "  # Simulate the random walk\n",
    "  for (step in 1:steps) {\n",
    "    # Generate a random move based on probabilities\n",
    "    move <- sample(moves, 1, prob = c(p1, p2, p3, p4))\n",
    "    \n",
    "    # Update the position based on the move\n",
    "    if (move == \"North\") {\n",
    "      position[2] <- position[2] + 1\n",
    "    } else if (move == \"South\") {\n",
    "      position[2] <- position[2] - 1\n",
    "    } else if (move == \"East\") {\n",
    "      position[1] <- position[1] + 1\n",
    "    } else if (move == \"West\") {\n",
    "      position[1] <- position[1] - 1\n",
    "    }\n",
    "    \n",
    "    # Storing current position\n",
    "    positions[step + 1, ] <- position\n",
    "  }\n",
    "  \n",
    "  return(positions)\n",
    "}\n",
    "\n",
    "# Set probabilities based on student ID\n",
    "p1 <- 0.31\n",
    "p2 <- 0.41\n",
    "p3 <- 0.76\n",
    "p4 <- 0.03\n",
    "\n",
    "# Set number of steps\n",
    "# Set the number of walks\n",
    "num_steps <- 2500\n",
    "num_walks <- 1000 \n",
    "\n",
    "# Simulate walks and calculate distances\n",
    "distances <- numeric(num_walks)\n",
    "for (i in 1:num_walks) {\n",
    "  final_position <- simulate_random_walk(num_steps, p1, p2, p3, p4)\n",
    "  distances[i] <- sqrt(sum(final_position^2))\n",
    "}\n",
    "\n",
    "# Calculate the average distance\n",
    "average_distance <- mean(distances)\n",
    "\n",
    "# Print the result\n",
    "cat(\"Average distance after\", num_steps, \"steps across\", num_walks, \"walks:\", average_distance, \"\\n\")\n"
   ]
  },
  {
   "cell_type": "code",
   "execution_count": 4,
   "id": "136cb706",
   "metadata": {},
   "outputs": [
    {
     "name": "stdout",
     "output_type": "stream",
     "text": [
      "Average distance after 2500 steps across 780 walks: 35213.37 \n"
     ]
    }
   ],
   "source": [
    "# Function to simulate a random walk\n",
    "simulate_random_walk <- function(steps, p1, p2, p3, p4) {\n",
    "  # Initialize the position\n",
    "  position <- c(0, 0)\n",
    "  \n",
    "  # Define all possible moves\n",
    "  moves <- c(\"North\", \"South\", \"East\", \"West\")\n",
    "  \n",
    "  # Stort positions at each step\n",
    "  positions <- matrix(0, ncol = 2, nrow = steps + 1)\n",
    "  positions[1, ] <- position\n",
    "  \n",
    "  # Simulate the random walk\n",
    "  for (step in 1:steps) {\n",
    "    # Generate a random move based on probabilities\n",
    "    move <- sample(moves, 1, prob = c(p1, p2, p3, p4))\n",
    "    \n",
    "    # Update the position based on the move\n",
    "    if (move == \"North\") {\n",
    "      position[2] <- position[2] + 1\n",
    "    } else if (move == \"South\") {\n",
    "      position[2] <- position[2] - 1\n",
    "    } else if (move == \"East\") {\n",
    "      position[1] <- position[1] + 1\n",
    "    } else if (move == \"West\") {\n",
    "      position[1] <- position[1] - 1\n",
    "    }\n",
    "    \n",
    "    # Storing current position\n",
    "    positions[step + 1, ] <- position\n",
    "  }\n",
    "  \n",
    "  return(positions)\n",
    "}\n",
    "\n",
    "# Set probabilities based on student ID\n",
    "p1 <- 0.31\n",
    "p2 <- 0.41\n",
    "p3 <- 0.76\n",
    "p4 <- 0.03\n",
    "\n",
    "# Set number of steps\n",
    "# Set the number of walks\n",
    "num_steps <- 2500\n",
    "num_walks <- 780\n",
    "\n",
    "# Simulate walks and calculate distances\n",
    "distances <- numeric(num_walks)\n",
    "for (i in 1:num_walks) {\n",
    "  final_position <- simulate_random_walk(num_steps, p1, p2, p3, p4)\n",
    "  distances[i] <- sqrt(sum(final_position^2))\n",
    "}\n",
    "\n",
    "# Calculate the average distance\n",
    "average_distance <- mean(distances)\n",
    "\n",
    "# Print the result\n",
    "cat(\"Average distance after\", num_steps, \"steps across\", num_walks, \"walks:\", average_distance, \"\\n\")\n"
   ]
  },
  {
   "cell_type": "markdown",
   "id": "139d1852",
   "metadata": {},
   "source": [
    "### Therefore the average distance after 2500 steps across 1000 walks: around 35200\n",
    "### The 'simulate_random_walk' function simulates a random walk. We run a specified number of walks 'num_walks', and for each walk, we calculate the Euclidean distance of the final position from the starting point. The average distance is calculated then from all the distances obtained in the simulation."
   ]
  },
  {
   "cell_type": "markdown",
   "id": "1b019555",
   "metadata": {},
   "source": [
    "## Q4 A generalised random walk is given by dS = a(x, t)dt + b(x, t)dW, where a(x, t), b(x, t) are given functions of space and time and dW is a Weiner process i.e. δW = ϵ√δt and ϵ is a random number normally distributed with a mean of 0 and a variance of 1.\n",
    "\n",
    "### (a) Simulate this random walk in 1 dimension with your own choice of a(x, t) and b(x, t)"
   ]
  },
  {
   "cell_type": "markdown",
   "id": "a050c46d",
   "metadata": {},
   "source": [
    "### For this simulation, we use numerical methods such as Euler-Maruyama method. This method discretizes the differential equation to perform the simulation."
   ]
  },
  {
   "cell_type": "code",
   "execution_count": 5,
   "id": "95a09892",
   "metadata": {},
   "outputs": [
    {
     "data": {
      "image/png": "[encoded data removed]",
      "text/plain": [
       "Plot with title \"Generalized Random Walk Simulation\""
      ]
     },
     "metadata": {
      "image/png": {
       "height": 420,
       "width": 420
      }
     },
     "output_type": "display_data"
    }
   ],
   "source": [
    "# Parameters\n",
    "num_steps <- 1000  # Number of time steps\n",
    "delta_t <- 0.01    # Time step size\n",
    "epsilon <- rnorm(num_steps, mean = 0, sd = 1) * sqrt(delta_t)  # Wiener process increments\n",
    "\n",
    "# Function to define a(x, t)\n",
    "a <- function(x, t) {\n",
    "  return(0.0025 * x * t) \n",
    "}\n",
    "\n",
    "# Function to define b(x, t)\n",
    "b <- function(x, t) {\n",
    "  return(0.04 * sin(x) + 0.0025 * t)  \n",
    "}\n",
    "\n",
    "# Initialize arrays to store results\n",
    "S <- numeric(num_steps + 1)\n",
    "S[1] <- 0  # Initial condition\n",
    "\n",
    "# Simulate the random walk\n",
    "for (i in 1:num_steps) {\n",
    "  S[i + 1] <- S[i] + a(S[i], i * delta_t) * delta_t + b(S[i], i * delta_t) * epsilon[i]\n",
    "}\n",
    "\n",
    "# Plot the results\n",
    "time <- seq(0, num_steps * delta_t, by = delta_t)\n",
    "plot(time, S, type = \"l\", col = \"blue\", xlab = \"Time\", ylab = \"Position\", main = \"Generalized Random Walk Simulation\")\n"
   ]
  },
  {
   "cell_type": "markdown",
   "id": "54b984bf",
   "metadata": {},
   "source": [
    "### (b) Estimate the expected value for the walk after 2500 steps"
   ]
  },
  {
   "cell_type": "code",
   "execution_count": 6,
   "id": "ee2fe233",
   "metadata": {},
   "outputs": [
    {
     "name": "stdout",
     "output_type": "stream",
     "text": [
      "Min final position: -0.669764 \n",
      "Max final position: 1.204799 \n",
      "Average final position after 2500 steps across 1000 simulations: -0.002343378 \n"
     ]
    }
   ],
   "source": [
    "# Function to simulate a generalized random walk\n",
    "simulate_generalized_random_walk <- function(num_steps, delta_t, num_simulations) {\n",
    "  epsilon_matrix <- matrix(rnorm(num_steps * num_simulations, mean = 0, sd = 1) * sqrt(delta_t), nrow = num_simulations)\n",
    "\n",
    "  # Initialize arrays to store results\n",
    "  S <- matrix(0, nrow = num_simulations, ncol = num_steps + 1)\n",
    "\n",
    "  # Simulate random walks\n",
    "  for (i in 1:num_simulations) {\n",
    "    for (j in 1:num_steps) {\n",
    "      S[i, j + 1] <- S[i, j] + a(S[i, j], j * delta_t) * delta_t + b(S[i, j], j * delta_t) * epsilon_matrix[i, j]\n",
    "    }\n",
    "  }\n",
    "\n",
    "  return(S)\n",
    "}\n",
    "\n",
    "# Parameters\n",
    "num_steps <- 2500\n",
    "num_simulations <- 1000 \n",
    "\n",
    "# Simulate generalized random walks\n",
    "simulated_walks <- simulate_generalized_random_walk(num_steps, delta_t, num_simulations)\n",
    "\n",
    "# Print some diagnostic information\n",
    "cat(\"Min final position:\", min(simulated_walks[, num_steps + 1]), \"\\n\")\n",
    "cat(\"Max final position:\", max(simulated_walks[, num_steps + 1]), \"\\n\")\n",
    "\n",
    "# Calculate the average\n",
    "average_final_position <- mean(simulated_walks[, num_steps + 1])\n",
    "\n",
    "# Print the result\n",
    "cat(\"Average final position after\", num_steps, \"steps across\", num_simulations, \"simulations:\", average_final_position, \"\\n\")"
   ]
  },
  {
   "cell_type": "markdown",
   "id": "fecff3a6",
   "metadata": {},
   "source": [
    "### (c) If the walk starts at x = 0, calculating the probability that x > 0 after 2500 steps"
   ]
  },
  {
   "cell_type": "code",
   "execution_count": 7,
   "id": "e3dd0b04",
   "metadata": {},
   "outputs": [
    {
     "name": "stdout",
     "output_type": "stream",
     "text": [
      "Probability that x > 0 after 2500 steps across 1000 simulations: 0.453 \n"
     ]
    }
   ],
   "source": [
    "# Calculate the probability that x > 0 after 2500 steps\n",
    "probability_x_positive <- sum(simulated_walks[, num_steps + 1] > 0) / num_simulations\n",
    "\n",
    "# Print the result\n",
    "cat(\"Probability that x > 0 after\", num_steps, \"steps across\", num_simulations, \"simulations:\", probability_x_positive, \"\\n\")\n"
   ]
  },
  {
   "cell_type": "markdown",
   "id": "2335015e",
   "metadata": {},
   "source": [
    "## Q5  simulate a random walk to estimate the value of π using the described approach."
   ]
  },
  {
   "cell_type": "code",
   "execution_count": 8,
   "id": "a7dfe932",
   "metadata": {},
   "outputs": [
    {
     "name": "stdout",
     "output_type": "stream",
     "text": [
      "Estimated values of pi: 3.12 3.149831 3.088136 3.137966 3.144407 \n"
     ]
    }
   ],
   "source": [
    "# Function to simulate a random walk and estimate pi\n",
    "simulate_pi_estimate <- function(num_points) {\n",
    "  x <- runif(num_points, min = -1, max = 1)\n",
    "  y <- runif(num_points, min = -1, max = 1)\n",
    "\n",
    "  # Calculate distances from the origin\n",
    " # Count points inside the circle\n",
    "     # Estimate pi using the ratio\n",
    "  distances <- sqrt(x^2 + y^2)\n",
    "points_inside_circle <- sum(distances <= 1)\n",
    " pi_estimate <- 4 * points_inside_circle / num_points\n",
    "\n",
    "  return(pi_estimate)\n",
    "}\n",
    "\n",
    "# Number of random walks\n",
    "num_walks <- 5\n",
    "\n",
    "# Number of points in each walk\n",
    "num_points_per_walk <- 11800\n",
    "\n",
    "# Simulating random walks to estimate pi\n",
    "pi_estimates <- sapply(1:num_walks, function(i) simulate_pi_estimate(num_points_per_walk))\n",
    "\n",
    "# Printing the estimated values\n",
    "cat(\"Estimated values of pi:\", pi_estimates, \"\\n\")\n"
   ]
  },
  {
   "cell_type": "markdown",
   "id": "c96b1679",
   "metadata": {},
   "source": [
    "### (a) Generating 5 chains, calculating the value of π after a large number of steps\n",
    "### To generate 5 chains and calculate the value of π after a large number of steps, we modify the previous code to include multiple chains."
   ]
  },
  {
   "cell_type": "code",
   "execution_count": 9,
   "id": "2bf55c51",
   "metadata": {},
   "outputs": [
    {
     "name": "stdout",
     "output_type": "stream",
     "text": [
      "Estimated values of pi for each chain: 3.134909 3.125091 3.153091 3.156 3.119273 \n"
     ]
    }
   ],
   "source": [
    "# Function to simulate a random walk and estimate pi\n",
    "simulate_pi_estimate_chain <- function(num_points, burn_in) {\n",
    "  x <- runif(num_points + burn_in, min = -1, max = 1)\n",
    "  y <- runif(num_points + burn_in, min = -1, max = 1)\n",
    "\n",
    "  # Calculate distances from the origin\n",
    "  distances <- sqrt(x^2 + y^2)\n",
    "\n",
    "  # Discard burn-in samples\n",
    "  distances <- distances[(burn_in + 1):(num_points + burn_in)]\n",
    "\n",
    "  # Count points inside the circle\n",
    "  points_inside_circle <- sum(distances <= 1)\n",
    "\n",
    "  # Estimate pi using the ratio\n",
    "  pi_estimate <- 4 * points_inside_circle / num_points\n",
    "\n",
    "  return(pi_estimate)\n",
    "}\n",
    "\n",
    "# Number of chains\n",
    "num_chains <- 5\n",
    "\n",
    "# Number of points and burn-in for each chain\n",
    "num_points_per_chain <- 11000\n",
    "burn_in_per_chain <- 1100\n",
    "\n",
    "# Simulate multiple chains to estimate pi\n",
    "pi_estimates_chain <- sapply(1:num_chains, function(i) simulate_pi_estimate_chain(num_points_per_chain, burn_in_per_chain))\n",
    "\n",
    "# Print the estimated values\n",
    "cat(\"Estimated values of pi for each chain:\", pi_estimates_chain, \"\\n\")\n"
   ]
  },
  {
   "cell_type": "markdown",
   "id": "e75cde18",
   "metadata": {},
   "source": [
    "### (b) Calculating an estimate for π and giving an estimate of the error."
   ]
  },
  {
   "cell_type": "code",
   "execution_count": 10,
   "id": "c4f78806",
   "metadata": {},
   "outputs": [
    {
     "name": "stdout",
     "output_type": "stream",
     "text": [
      "Overall estimate of pi: 3.137673 \n",
      "Standard deviation of estimates: 0.01641729 \n",
      "Error estimate: 0.007342033 \n"
     ]
    }
   ],
   "source": [
    "# Calculate the overall estimate of pi\n",
    "overall_pi_estimate <- mean(pi_estimates_chain)\n",
    "\n",
    "# Calculate the standard deviation of the estimates\n",
    "pi_estimate_std <- sd(pi_estimates_chain)\n",
    "\n",
    "# Calculate the error (standard deviation / sqrt(number of chains))\n",
    "error_estimate <- pi_estimate_std / sqrt(num_chains)\n",
    "\n",
    "# Print the results\n",
    "cat(\"Overall estimate of pi:\", overall_pi_estimate, \"\\n\")\n",
    "cat(\"Standard deviation of estimates:\", pi_estimate_std, \"\\n\")\n",
    "cat(\"Error estimate:\", error_estimate, \"\\n\")\n"
   ]
  }
 ],
 "metadata": {
  "kernelspec": {
   "display_name": "R",
   "language": "R",
   "name": "ir"
  },
  "language_info": {
   "codemirror_mode": "r",
   "file_extension": ".r",
   "mimetype": "text/x-r-source",
   "name": "R",
   "pygments_lexer": "r",
   "version": "4.0.5"
  }
 },
 "nbformat": 4,
 "nbformat_minor": 5
}
